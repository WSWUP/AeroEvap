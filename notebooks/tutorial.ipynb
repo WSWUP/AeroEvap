{
 "cells": [
  {
   "cell_type": "markdown",
   "metadata": {},
   "source": [
    "# Tutorial\n",
    "\n",
    "Basic usage with an example dataset. Note, this tutorial uses the matplotlib graphing module which is *not* a dependency of ``AeroEvap``, be sure to install it to your environment before running this tutorial if you want the plots to display correctly."
   ]
  },
  {
   "cell_type": "code",
   "execution_count": 1,
   "metadata": {},
   "outputs": [],
   "source": [
    "import pandas as pd\n",
    "import numpy as np\n",
    "from aeroevap import Aero\n",
    "from IPython.display import IFrame\n",
    "import matplotlib.pyplot as plt\n",
    "%matplotlib inline"
   ]
  },
  {
   "cell_type": "markdown",
   "metadata": {},
   "source": [
    "## Example data \n",
    "\n",
    "This example uses buoy data from a location near south-central Lake Huron, MI (NOAA station ID is 45008). The buoy is maintained by the National Data Buoy Center (NDBC), more buoy information is shown in the embededd page below. The meterologicla data used in this example is hosted by NOAA and downloaded directly and formatted for a month of data. "
   ]
  },
  {
   "cell_type": "code",
   "execution_count": 2,
   "metadata": {},
   "outputs": [
    {
     "data": {
      "text/html": [
       "\n",
       "        <iframe\n",
       "            width=\"700\"\n",
       "            height=\"500\"\n",
       "            src=\"https://www.ndbc.noaa.gov/station_page.php?station=45008\"\n",
       "            frameborder=\"0\"\n",
       "            allowfullscreen\n",
       "        ></iframe>\n",
       "        "
      ],
      "text/plain": [
       "<IPython.lib.display.IFrame at 0x7fb6d1222c50>"
      ]
     },
     "execution_count": 2,
     "metadata": {},
     "output_type": "execute_result"
    }
   ],
   "source": [
    "IFrame(src='https://www.ndbc.noaa.gov/station_page.php?station=45008', width=700, height=500)"
   ]
  },
  {
   "cell_type": "markdown",
   "metadata": {},
   "source": [
    "The line below downloads the time series of current year buoy standard meterological data directly from the NDBC."
   ]
  },
  {
   "cell_type": "markdown",
   "metadata": {},
   "source": [
    "Input units:\n",
    "\n",
    "| WDIR   | WSPD   | GST   | WVHT   | DPD   | APD   | MWD   | PRES   | ATMP   | WTMP   | DEWP   | VIS   | TIDE   |\n",
    "|:-------|:-------|:------|:-------|:------|:------|:------|:-------|:-------|:-------|:-------|:------|:-------|\n",
    "| degT   | m/s    | m/s   | m      | sec   | sec   | deg   | hPa    | degC   | degC   | degC   | nmi   | ft     |"
   ]
  },
  {
   "cell_type": "code",
   "execution_count": 3,
   "metadata": {},
   "outputs": [],
   "source": [
    "# get standard meterological data from National Data Buoy Center\n",
    "met_df = pd.read_csv(\n",
    "    'https://www.ndbc.noaa.gov/data/l_stdmet/45008.txt', \n",
    "    delim_whitespace=True, skiprows=[1], na_values=[999.0]\n",
    ")"
   ]
  },
  {
   "cell_type": "markdown",
   "metadata": {},
   "source": [
    "Make a datetime index and clean up the dataframe."
   ]
  },
  {
   "cell_type": "code",
   "execution_count": 4,
   "metadata": {},
   "outputs": [
    {
     "data": {
      "text/html": [
       "<div>\n",
       "<style scoped>\n",
       "    .dataframe tbody tr th:only-of-type {\n",
       "        vertical-align: middle;\n",
       "    }\n",
       "\n",
       "    .dataframe tbody tr th {\n",
       "        vertical-align: top;\n",
       "    }\n",
       "\n",
       "    .dataframe thead th {\n",
       "        text-align: right;\n",
       "    }\n",
       "</style>\n",
       "<table border=\"1\" class=\"dataframe\">\n",
       "  <thead>\n",
       "    <tr style=\"text-align: right;\">\n",
       "      <th></th>\n",
       "      <th>WDIR</th>\n",
       "      <th>WSPD</th>\n",
       "      <th>GST</th>\n",
       "      <th>WVHT</th>\n",
       "      <th>DPD</th>\n",
       "      <th>APD</th>\n",
       "      <th>MWD</th>\n",
       "      <th>PRES</th>\n",
       "      <th>ATMP</th>\n",
       "      <th>WTMP</th>\n",
       "      <th>DEWP</th>\n",
       "      <th>VIS</th>\n",
       "      <th>TIDE</th>\n",
       "    </tr>\n",
       "    <tr>\n",
       "      <th>date</th>\n",
       "      <th></th>\n",
       "      <th></th>\n",
       "      <th></th>\n",
       "      <th></th>\n",
       "      <th></th>\n",
       "      <th></th>\n",
       "      <th></th>\n",
       "      <th></th>\n",
       "      <th></th>\n",
       "      <th></th>\n",
       "      <th></th>\n",
       "      <th></th>\n",
       "      <th></th>\n",
       "    </tr>\n",
       "  </thead>\n",
       "  <tbody>\n",
       "    <tr>\n",
       "      <td>2019-10-01 00:00:00</td>\n",
       "      <td>182.0</td>\n",
       "      <td>7.2</td>\n",
       "      <td>8.4</td>\n",
       "      <td>99.0</td>\n",
       "      <td>99.0</td>\n",
       "      <td>99.00</td>\n",
       "      <td>NaN</td>\n",
       "      <td>1014.0</td>\n",
       "      <td>19.1</td>\n",
       "      <td>17.7</td>\n",
       "      <td>18.1</td>\n",
       "      <td>99.0</td>\n",
       "      <td>99.0</td>\n",
       "    </tr>\n",
       "    <tr>\n",
       "      <td>2019-10-01 00:10:00</td>\n",
       "      <td>183.0</td>\n",
       "      <td>7.2</td>\n",
       "      <td>8.5</td>\n",
       "      <td>99.0</td>\n",
       "      <td>99.0</td>\n",
       "      <td>99.00</td>\n",
       "      <td>NaN</td>\n",
       "      <td>1014.1</td>\n",
       "      <td>19.3</td>\n",
       "      <td>17.7</td>\n",
       "      <td>18.2</td>\n",
       "      <td>99.0</td>\n",
       "      <td>99.0</td>\n",
       "    </tr>\n",
       "    <tr>\n",
       "      <td>2019-10-01 00:20:00</td>\n",
       "      <td>183.0</td>\n",
       "      <td>7.4</td>\n",
       "      <td>8.7</td>\n",
       "      <td>99.0</td>\n",
       "      <td>99.0</td>\n",
       "      <td>99.00</td>\n",
       "      <td>NaN</td>\n",
       "      <td>1014.1</td>\n",
       "      <td>19.3</td>\n",
       "      <td>17.7</td>\n",
       "      <td>18.2</td>\n",
       "      <td>99.0</td>\n",
       "      <td>99.0</td>\n",
       "    </tr>\n",
       "    <tr>\n",
       "      <td>2019-10-01 00:30:00</td>\n",
       "      <td>182.0</td>\n",
       "      <td>7.6</td>\n",
       "      <td>8.8</td>\n",
       "      <td>99.0</td>\n",
       "      <td>99.0</td>\n",
       "      <td>99.00</td>\n",
       "      <td>NaN</td>\n",
       "      <td>1014.0</td>\n",
       "      <td>19.4</td>\n",
       "      <td>17.7</td>\n",
       "      <td>18.3</td>\n",
       "      <td>99.0</td>\n",
       "      <td>99.0</td>\n",
       "    </tr>\n",
       "    <tr>\n",
       "      <td>2019-10-01 00:40:00</td>\n",
       "      <td>181.0</td>\n",
       "      <td>7.2</td>\n",
       "      <td>8.9</td>\n",
       "      <td>0.7</td>\n",
       "      <td>4.0</td>\n",
       "      <td>3.29</td>\n",
       "      <td>173.0</td>\n",
       "      <td>1014.1</td>\n",
       "      <td>19.3</td>\n",
       "      <td>17.7</td>\n",
       "      <td>18.3</td>\n",
       "      <td>99.0</td>\n",
       "      <td>99.0</td>\n",
       "    </tr>\n",
       "  </tbody>\n",
       "</table>\n",
       "</div>"
      ],
      "text/plain": [
       "                      WDIR  WSPD  GST  WVHT   DPD    APD    MWD    PRES  ATMP  \\\n",
       "date                                                                            \n",
       "2019-10-01 00:00:00  182.0   7.2  8.4  99.0  99.0  99.00    NaN  1014.0  19.1   \n",
       "2019-10-01 00:10:00  183.0   7.2  8.5  99.0  99.0  99.00    NaN  1014.1  19.3   \n",
       "2019-10-01 00:20:00  183.0   7.4  8.7  99.0  99.0  99.00    NaN  1014.1  19.3   \n",
       "2019-10-01 00:30:00  182.0   7.6  8.8  99.0  99.0  99.00    NaN  1014.0  19.4   \n",
       "2019-10-01 00:40:00  181.0   7.2  8.9   0.7   4.0   3.29  173.0  1014.1  19.3   \n",
       "\n",
       "                     WTMP  DEWP   VIS  TIDE  \n",
       "date                                         \n",
       "2019-10-01 00:00:00  17.7  18.1  99.0  99.0  \n",
       "2019-10-01 00:10:00  17.7  18.2  99.0  99.0  \n",
       "2019-10-01 00:20:00  17.7  18.2  99.0  99.0  \n",
       "2019-10-01 00:30:00  17.7  18.3  99.0  99.0  \n",
       "2019-10-01 00:40:00  17.7  18.3  99.0  99.0  "
      ]
     },
     "execution_count": 4,
     "metadata": {},
     "output_type": "execute_result"
    }
   ],
   "source": [
    "met_df.index = pd.to_datetime(\n",
    "    dict(\n",
    "        year=met_df['#YY'], \n",
    "        month=met_df.MM, \n",
    "        day=met_df.DD, \n",
    "        hour=met_df.hh,\n",
    "        minute=met_df.mm\n",
    "    )\n",
    ")\n",
    "met_df.index.name = 'date'\n",
    "met_df.drop(['#YY','MM','DD','hh','mm'], axis=1, inplace=True)\n",
    "met_df.head()"
   ]
  },
  {
   "cell_type": "markdown",
   "metadata": {},
   "source": [
    "Because the input dataset does not include relative humitidy we can estimate it using an approximation to the Clausius–Clapeyron relation using air and dewpoint temperatures. Relative humitidy is needed in the aerodynamic mass-transfer evaporation calculations."
   ]
  },
  {
   "cell_type": "code",
   "execution_count": 5,
   "metadata": {},
   "outputs": [],
   "source": [
    "# vapor pressure and saturation vapor pressure using Clausius–Clapeyron relation\n",
    "met_df['e'] = 0.611 * np.exp( 5423 * ((1/273) - (1/(met_df.DEWP+273.15))) )\n",
    "met_df['es'] = 0.611 * np.exp( 5423 * ((1/273) - (1/(met_df.ATMP+273.15))) )"
   ]
  },
  {
   "cell_type": "code",
   "execution_count": 6,
   "metadata": {},
   "outputs": [
    {
     "data": {
      "text/plain": [
       "Text(0, 0.5, 'estimated relative humitidy')"
      ]
     },
     "execution_count": 6,
     "metadata": {},
     "output_type": "execute_result"
    },
    {
     "data": {
      "image/png": "[encoded data removed]",
      "text/plain": [
       "<Figure size 576x288 with 1 Axes>"
      ]
     },
     "metadata": {
      "needs_background": "light"
     },
     "output_type": "display_data"
    }
   ],
   "source": [
    "# calculate relative humitidy\n",
    "met_df['RH'] = 100 * (met_df.e/met_df.es)\n",
    "\n",
    "plt.figure(figsize=(8,4))\n",
    "met_df.RH.plot()\n",
    "plt.ylabel('estimated relative humitidy')"
   ]
  },
  {
   "cell_type": "markdown",
   "metadata": {},
   "source": [
    "In this case we do *not* need to convert air pressure to millibars because 1 hPa = 1 mbar."
   ]
  },
  {
   "cell_type": "markdown",
   "metadata": {},
   "source": [
    "# Create an ``Aero`` object\n",
    "\n",
    "The ``Aero`` object allows for loading a ``pandas.DataFrame`` containing meterological data required for calculating aerodynamic mass-transfer open water evaporation in parrallel. The object can be initialized from a ``pandas.DataFrame`` or the ``pandas.DataFrame`` can be assigned later, e.g."
   ]
  },
  {
   "cell_type": "code",
   "execution_count": 7,
   "metadata": {},
   "outputs": [],
   "source": [
    "Aero_empty = Aero()\n",
    "Aero_with_df = Aero(met_df)"
   ]
  },
  {
   "cell_type": "code",
   "execution_count": 8,
   "metadata": {},
   "outputs": [
    {
     "data": {
      "text/plain": [
       "True"
      ]
     },
     "execution_count": 8,
     "metadata": {},
     "output_type": "execute_result"
    }
   ],
   "source": [
    "Aero_empty.df is None"
   ]
  },
  {
   "cell_type": "code",
   "execution_count": 9,
   "metadata": {},
   "outputs": [],
   "source": [
    "# the df property can be assigned after initialization:\n",
    "Aero_empty.df = met_df"
   ]
  },
  {
   "cell_type": "code",
   "execution_count": 10,
   "metadata": {},
   "outputs": [
    {
     "data": {
      "text/html": [
       "<div>\n",
       "<style scoped>\n",
       "    .dataframe tbody tr th:only-of-type {\n",
       "        vertical-align: middle;\n",
       "    }\n",
       "\n",
       "    .dataframe tbody tr th {\n",
       "        vertical-align: top;\n",
       "    }\n",
       "\n",
       "    .dataframe thead th {\n",
       "        text-align: right;\n",
       "    }\n",
       "</style>\n",
       "<table border=\"1\" class=\"dataframe\">\n",
       "  <thead>\n",
       "    <tr style=\"text-align: right;\">\n",
       "      <th></th>\n",
       "      <th>WDIR</th>\n",
       "      <th>WSPD</th>\n",
       "      <th>GST</th>\n",
       "      <th>WVHT</th>\n",
       "      <th>DPD</th>\n",
       "      <th>APD</th>\n",
       "      <th>MWD</th>\n",
       "      <th>PRES</th>\n",
       "      <th>ATMP</th>\n",
       "      <th>WTMP</th>\n",
       "      <th>DEWP</th>\n",
       "      <th>VIS</th>\n",
       "      <th>TIDE</th>\n",
       "      <th>e</th>\n",
       "      <th>es</th>\n",
       "      <th>RH</th>\n",
       "    </tr>\n",
       "    <tr>\n",
       "      <th>date</th>\n",
       "      <th></th>\n",
       "      <th></th>\n",
       "      <th></th>\n",
       "      <th></th>\n",
       "      <th></th>\n",
       "      <th></th>\n",
       "      <th></th>\n",
       "      <th></th>\n",
       "      <th></th>\n",
       "      <th></th>\n",
       "      <th></th>\n",
       "      <th></th>\n",
       "      <th></th>\n",
       "      <th></th>\n",
       "      <th></th>\n",
       "      <th></th>\n",
       "    </tr>\n",
       "  </thead>\n",
       "  <tbody>\n",
       "    <tr>\n",
       "      <td>2019-10-01 00:00:00</td>\n",
       "      <td>182.0</td>\n",
       "      <td>7.2</td>\n",
       "      <td>8.4</td>\n",
       "      <td>99.0</td>\n",
       "      <td>99.0</td>\n",
       "      <td>99.00</td>\n",
       "      <td>NaN</td>\n",
       "      <td>1014.0</td>\n",
       "      <td>19.1</td>\n",
       "      <td>17.7</td>\n",
       "      <td>18.1</td>\n",
       "      <td>99.0</td>\n",
       "      <td>99.0</td>\n",
       "      <td>2.121383</td>\n",
       "      <td>2.260938</td>\n",
       "      <td>93.827547</td>\n",
       "    </tr>\n",
       "    <tr>\n",
       "      <td>2019-10-01 00:10:00</td>\n",
       "      <td>183.0</td>\n",
       "      <td>7.2</td>\n",
       "      <td>8.5</td>\n",
       "      <td>99.0</td>\n",
       "      <td>99.0</td>\n",
       "      <td>99.00</td>\n",
       "      <td>NaN</td>\n",
       "      <td>1014.1</td>\n",
       "      <td>19.3</td>\n",
       "      <td>17.7</td>\n",
       "      <td>18.2</td>\n",
       "      <td>99.0</td>\n",
       "      <td>99.0</td>\n",
       "      <td>2.134983</td>\n",
       "      <td>2.289812</td>\n",
       "      <td>93.238366</td>\n",
       "    </tr>\n",
       "    <tr>\n",
       "      <td>2019-10-01 00:20:00</td>\n",
       "      <td>183.0</td>\n",
       "      <td>7.4</td>\n",
       "      <td>8.7</td>\n",
       "      <td>99.0</td>\n",
       "      <td>99.0</td>\n",
       "      <td>99.00</td>\n",
       "      <td>NaN</td>\n",
       "      <td>1014.1</td>\n",
       "      <td>19.3</td>\n",
       "      <td>17.7</td>\n",
       "      <td>18.2</td>\n",
       "      <td>99.0</td>\n",
       "      <td>99.0</td>\n",
       "      <td>2.134983</td>\n",
       "      <td>2.289812</td>\n",
       "      <td>93.238366</td>\n",
       "    </tr>\n",
       "    <tr>\n",
       "      <td>2019-10-01 00:30:00</td>\n",
       "      <td>182.0</td>\n",
       "      <td>7.6</td>\n",
       "      <td>8.8</td>\n",
       "      <td>99.0</td>\n",
       "      <td>99.0</td>\n",
       "      <td>99.00</td>\n",
       "      <td>NaN</td>\n",
       "      <td>1014.0</td>\n",
       "      <td>19.4</td>\n",
       "      <td>17.7</td>\n",
       "      <td>18.3</td>\n",
       "      <td>99.0</td>\n",
       "      <td>99.0</td>\n",
       "      <td>2.148662</td>\n",
       "      <td>2.304372</td>\n",
       "      <td>93.242836</td>\n",
       "    </tr>\n",
       "    <tr>\n",
       "      <td>2019-10-01 00:40:00</td>\n",
       "      <td>181.0</td>\n",
       "      <td>7.2</td>\n",
       "      <td>8.9</td>\n",
       "      <td>0.7</td>\n",
       "      <td>4.0</td>\n",
       "      <td>3.29</td>\n",
       "      <td>173.0</td>\n",
       "      <td>1014.1</td>\n",
       "      <td>19.3</td>\n",
       "      <td>17.7</td>\n",
       "      <td>18.3</td>\n",
       "      <td>99.0</td>\n",
       "      <td>99.0</td>\n",
       "      <td>2.148662</td>\n",
       "      <td>2.289812</td>\n",
       "      <td>93.835735</td>\n",
       "    </tr>\n",
       "  </tbody>\n",
       "</table>\n",
       "</div>"
      ],
      "text/plain": [
       "                      WDIR  WSPD  GST  WVHT   DPD    APD    MWD    PRES  ATMP  \\\n",
       "date                                                                            \n",
       "2019-10-01 00:00:00  182.0   7.2  8.4  99.0  99.0  99.00    NaN  1014.0  19.1   \n",
       "2019-10-01 00:10:00  183.0   7.2  8.5  99.0  99.0  99.00    NaN  1014.1  19.3   \n",
       "2019-10-01 00:20:00  183.0   7.4  8.7  99.0  99.0  99.00    NaN  1014.1  19.3   \n",
       "2019-10-01 00:30:00  182.0   7.6  8.8  99.0  99.0  99.00    NaN  1014.0  19.4   \n",
       "2019-10-01 00:40:00  181.0   7.2  8.9   0.7   4.0   3.29  173.0  1014.1  19.3   \n",
       "\n",
       "                     WTMP  DEWP   VIS  TIDE         e        es         RH  \n",
       "date                                                                        \n",
       "2019-10-01 00:00:00  17.7  18.1  99.0  99.0  2.121383  2.260938  93.827547  \n",
       "2019-10-01 00:10:00  17.7  18.2  99.0  99.0  2.134983  2.289812  93.238366  \n",
       "2019-10-01 00:20:00  17.7  18.2  99.0  99.0  2.134983  2.289812  93.238366  \n",
       "2019-10-01 00:30:00  17.7  18.3  99.0  99.0  2.148662  2.304372  93.242836  \n",
       "2019-10-01 00:40:00  17.7  18.3  99.0  99.0  2.148662  2.289812  93.835735  "
      ]
     },
     "execution_count": 10,
     "metadata": {},
     "output_type": "execute_result"
    }
   ],
   "source": [
    "# the data has been added\n",
    "Aero_empty.df.head()"
   ]
  },
  {
   "cell_type": "code",
   "execution_count": 11,
   "metadata": {},
   "outputs": [
    {
     "ename": "TypeError",
     "evalue": "Must assign a pandas.DataFrame object",
     "output_type": "error",
     "traceback": [
      "\u001b[0;31m---------------------------------------------------------------------------\u001b[0m",
      "\u001b[0;31mTypeError\u001b[0m                                 Traceback (most recent call last)",
      "\u001b[0;32m<ipython-input-11-5de371e56275>\u001b[0m in \u001b[0;36m<module>\u001b[0;34m\u001b[0m\n\u001b[1;32m      1\u001b[0m \u001b[0;31m# this will not work, df needs to be a dataframe\u001b[0m\u001b[0;34m\u001b[0m\u001b[0;34m\u001b[0m\u001b[0;34m\u001b[0m\u001b[0m\n\u001b[0;32m----> 2\u001b[0;31m \u001b[0mAero_empty\u001b[0m\u001b[0;34m.\u001b[0m\u001b[0mdf\u001b[0m \u001b[0;34m=\u001b[0m \u001b[0;34m'high five'\u001b[0m\u001b[0;34m\u001b[0m\u001b[0;34m\u001b[0m\u001b[0m\n\u001b[0m",
      "\u001b[0;32m~/anaconda3/envs/aeroevap/lib/python3.7/site-packages/aeroevap/aero.py\u001b[0m in \u001b[0;36mdf\u001b[0;34m(self, df)\u001b[0m\n\u001b[1;32m    122\u001b[0m     \u001b[0;32mdef\u001b[0m \u001b[0mdf\u001b[0m\u001b[0;34m(\u001b[0m\u001b[0mself\u001b[0m\u001b[0;34m,\u001b[0m \u001b[0mdf\u001b[0m\u001b[0;34m)\u001b[0m\u001b[0;34m:\u001b[0m\u001b[0;34m\u001b[0m\u001b[0;34m\u001b[0m\u001b[0m\n\u001b[1;32m    123\u001b[0m         \u001b[0;32mif\u001b[0m \u001b[0;32mnot\u001b[0m \u001b[0misinstance\u001b[0m\u001b[0;34m(\u001b[0m\u001b[0mdf\u001b[0m\u001b[0;34m,\u001b[0m \u001b[0mpd\u001b[0m\u001b[0;34m.\u001b[0m\u001b[0mDataFrame\u001b[0m\u001b[0;34m)\u001b[0m\u001b[0;34m:\u001b[0m\u001b[0;34m\u001b[0m\u001b[0;34m\u001b[0m\u001b[0m\n\u001b[0;32m--> 124\u001b[0;31m             \u001b[0;32mraise\u001b[0m \u001b[0mTypeError\u001b[0m\u001b[0;34m(\u001b[0m\u001b[0;34m\"Must assign a pandas.DataFrame object\"\u001b[0m\u001b[0;34m)\u001b[0m\u001b[0;34m\u001b[0m\u001b[0;34m\u001b[0m\u001b[0m\n\u001b[0m\u001b[1;32m    125\u001b[0m         \u001b[0mself\u001b[0m\u001b[0;34m.\u001b[0m\u001b[0m_df\u001b[0m \u001b[0;34m=\u001b[0m \u001b[0mdf\u001b[0m\u001b[0;34m\u001b[0m\u001b[0;34m\u001b[0m\u001b[0m\n\u001b[1;32m    126\u001b[0m \u001b[0;34m\u001b[0m\u001b[0m\n",
      "\u001b[0;31mTypeError\u001b[0m: Must assign a pandas.DataFrame object"
     ]
    }
   ],
   "source": [
    "# this will not work, df needs to be a dataframe\n",
    "Aero_empty.df = 'high five'"
   ]
  },
  {
   "cell_type": "markdown",
   "metadata": {},
   "source": [
    "**Tip:** the ``df`` is a property of the ``Aero`` class which means it can be assigned or reassigned if, for example, you wanted to run the evaporation calculations on a modified version of input meterological time series without creating a new ``Aero`` instance."
   ]
  },
  {
   "cell_type": "markdown",
   "metadata": {},
   "source": [
    "## Input variables and units\n",
    "\n",
    "The meterological variables needed for running the aerodynamic mass-transfer estimation of evaporation are the following:\n",
    "\n",
    "| variable          | units | naming |\n",
    "|-------------------|-------|--------|\n",
    "| wind speed        | m/s   | WS     |\n",
    "| air pressure      | mbar  | P      |\n",
    "| air temperature   | C     | T_air  |\n",
    "| skin temperature  | C     | T_skin |\n",
    "| relative humidity | 0-100 | RH     |\n",
    "\n",
    "where the \"naming\" column refers to the internal names expected by the ``Aero.run`` method, i.e. the column headers in the dataframe should either be named accordingly or a dictionary that maps your column names to those internal names can be passed (see examples below). \n",
    "\n",
    "To run the evaporation calculation you will also need the anemometer height in meters and the temporal sampling frequency of the data in seconds."
   ]
  },
  {
   "cell_type": "markdown",
   "metadata": {},
   "source": [
    "## Run calculation on time series"
   ]
  },
  {
   "cell_type": "code",
   "execution_count": null,
   "metadata": {},
   "outputs": [],
   "source": [
    "# make a naming dict to match up columns with Aero variable names\n",
    "names = {\n",
    "    'WSPD' : 'WS',\n",
    "    'ATMP' : 'T_air',\n",
    "    'WTMP' : 'T_skin',\n",
    "    'PRES' : 'P'\n",
    "}"
   ]
  },
  {
   "cell_type": "markdown",
   "metadata": {},
   "source": [
    "Now we are ready to run the aerodynamic mass-transer evaporation on all the time series in our dataframe. Lastly, the sensor height of the anemometer and temporal sampling frequency of the data needs to be supplied. \n",
    "\n",
    "This example assumes there are 8 physical and logical processors available for parallelization, if not specified the ``Aero.run`` routine wil try to use half of the avialble processors."
   ]
  },
  {
   "cell_type": "code",
   "execution_count": null,
   "metadata": {},
   "outputs": [],
   "source": [
    "np.seterr('ignore')\n",
    "# create a new Aero object and calculate evaporation on all rows\n",
    "A = Aero(met_df)\n",
    "A.run(sensor_height=4, timestep=600, variable_names=names)"
   ]
  },
  {
   "cell_type": "markdown",
   "metadata": {},
   "source": [
    "After the calculations are complete three variables will be added to the ``Aero.df`` dataframe: 'E', 'Ce', and 'VPD' which are evaporation in mm/timestep, bulk transfer coefficient, and vapor pressure deficit (kPa). "
   ]
  },
  {
   "cell_type": "code",
   "execution_count": null,
   "metadata": {},
   "outputs": [],
   "source": [
    "A.df[['E', 'Ce', 'VPD']].head()"
   ]
  },
  {
   "cell_type": "markdown",
   "metadata": {},
   "source": [
    "View the calculated evaporation,"
   ]
  },
  {
   "cell_type": "code",
   "execution_count": null,
   "metadata": {},
   "outputs": [],
   "source": [
    "plt.figure(figsize=(8,4))\n",
    "A.df.E.plot()\n",
    "plt.ylabel('evaporation mm/10 min')"
   ]
  },
  {
   "cell_type": "markdown",
   "metadata": {},
   "source": [
    "The calculated open-water evaporation is shown below after creating a daily sum."
   ]
  },
  {
   "cell_type": "code",
   "execution_count": null,
   "metadata": {
    "scrolled": true
   },
   "outputs": [],
   "source": [
    "import matplotlib.pyplot as plt\n",
    "plt.figure(figsize=(8,4))\n",
    "A.df.E.resample('D').sum().plot()\n",
    "plt.ylabel('evaporation mm/day')"
   ]
  },
  {
   "cell_type": "markdown",
   "metadata": {},
   "source": [
    "And the wind speed relation versus the calculated evaporation."
   ]
  },
  {
   "cell_type": "code",
   "execution_count": null,
   "metadata": {},
   "outputs": [],
   "source": [
    "plt.figure(figsize=(8,4))\n",
    "plt.scatter(A.df.WSPD.resample('D').mean(), A.df.E.resample('D').sum())\n",
    "plt.ylabel('evaporation mm/day')\n",
    "plt.xlabel('mean daily wind speed m/s')"
   ]
  },
  {
   "cell_type": "markdown",
   "metadata": {},
   "source": [
    "## Single calculation\n",
    "\n",
    "The ``Aero`` class also provides a method ``Aero.single_calc`` that can be used on a single set of meterological data to calculate the instantaneous open-water evaporation. It requires the same inputs as ``Aero.run`` however the inputs are scalars as opposed to time series. For example using the first timestamp of our example buoy data we can calculate E, Ce, and VPD:"
   ]
  },
  {
   "cell_type": "code",
   "execution_count": null,
   "metadata": {},
   "outputs": [],
   "source": [
    "datetime = '2019-08-01 00:00:00'\n",
    "wind = 3.3\n",
    "pressure = 1021.2\n",
    "T_air = 18.1\n",
    "T_skin = 18.4\n",
    "RH = 80.26\n",
    "sensor_height = 4\n",
    "timestep = 600\n",
    "\n",
    "E, Ce, VPD = Aero.single_calc(\n",
    "    datetime,\n",
    "    wind,\n",
    "    pressure,\n",
    "    T_air,\n",
    "    T_skin,\n",
    "    RH,\n",
    "    sensor_height,\n",
    "    timestep\n",
    ")"
   ]
  },
  {
   "cell_type": "code",
   "execution_count": null,
   "metadata": {},
   "outputs": [],
   "source": [
    "E, Ce, VPD"
   ]
  },
  {
   "cell_type": "code",
   "execution_count": null,
   "metadata": {},
   "outputs": [],
   "source": []
  }
 ],
 "metadata": {
  "kernelspec": {
   "display_name": "Python 3",
   "language": "python",
   "name": "python3"
  },
  "language_info": {
   "codemirror_mode": {
    "name": "ipython",
    "version": 3
   },
   "file_extension": ".py",
   "mimetype": "text/x-python",
   "name": "python",
   "nbconvert_exporter": "python",
   "pygments_lexer": "ipython3",
   "version": "3.7.4"
  }
 },
 "nbformat": 4,
 "nbformat_minor": 2
}
