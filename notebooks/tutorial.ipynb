{
 "cells": [
  {
   "cell_type": "markdown",
   "metadata": {},
   "source": [
    "# Tutorial\n",
    "\n",
    "Basic usage with an example dataset. Note, this tutorial uses the matplotlib graphing module which is *not* a dependency of ``AeroEvap``, be sure to install it to your environment before running this tutorial if you want the plots to display correctly."
   ]
  },
  {
   "cell_type": "code",
   "execution_count": 1,
   "metadata": {},
   "outputs": [],
   "source": [
    "import pandas as pd\n",
    "import numpy as np\n",
    "from aeroevap import Aero\n",
    "from IPython.display import IFrame\n",
    "import matplotlib.pyplot as plt\n",
    "%matplotlib inline"
   ]
  },
  {
   "cell_type": "markdown",
   "metadata": {},
   "source": [
    "## Example data \n",
    "\n",
    "This example uses buoy data from a location near Savannah, GA (NOAA station ID is 41008). The buoy is maintained by the National Data Buoy Center (NDBC), more buoy information is shown in the embededd page below. The meterologicla data used in this example is hosted by NOAA and downloaded directly and formatted for a month of data. "
   ]
  },
  {
   "cell_type": "code",
   "execution_count": 2,
   "metadata": {},
   "outputs": [
    {
     "data": {
      "text/html": [
       "\n",
       "        <iframe\n",
       "            width=\"700\"\n",
       "            height=\"500\"\n",
       "            src=\"https://www.ndbc.noaa.gov/station_page.php?station=41008\"\n",
       "            frameborder=\"0\"\n",
       "            allowfullscreen\n",
       "        ></iframe>\n",
       "        "
      ],
      "text/plain": [
       "<IPython.lib.display.IFrame at 0x7fdc60878550>"
      ]
     },
     "execution_count": 2,
     "metadata": {},
     "output_type": "execute_result"
    }
   ],
   "source": [
    "IFrame(src='https://www.ndbc.noaa.gov/station_page.php?station=41008', width=700, height=500)"
   ]
  },
  {
   "cell_type": "markdown",
   "metadata": {},
   "source": [
    "The line below downloads the time series of current year buoy standard meterological data directly from the NDBC."
   ]
  },
  {
   "cell_type": "markdown",
   "metadata": {},
   "source": [
    "Input units:\n",
    "\n",
    "| WDIR   | WSPD   | GST   | WVHT   | DPD   | APD   | MWD   | PRES   | ATMP   | WTMP   | DEWP   | VIS   | TIDE   |\n",
    "|:-------|:-------|:------|:-------|:------|:------|:------|:-------|:-------|:-------|:-------|:------|:-------|\n",
    "| degT   | m/s    | m/s   | m      | sec   | sec   | deg   | hPa    | degC   | degC   | degC   | nmi   | ft     |"
   ]
  },
  {
   "cell_type": "code",
   "execution_count": 3,
   "metadata": {},
   "outputs": [],
   "source": [
    "# get standard meterological data from National Data Buoy Center\n",
    "met_df = pd.read_csv(\n",
    "    'https://www.ndbc.noaa.gov/data/l_stdmet/41008.txt', \n",
    "    delim_whitespace=True, skiprows=[1], na_values=[999.0]\n",
    ")"
   ]
  },
  {
   "cell_type": "markdown",
   "metadata": {},
   "source": [
    "Make a datetime index and clean up the dataframe."
   ]
  },
  {
   "cell_type": "code",
   "execution_count": 4,
   "metadata": {},
   "outputs": [
    {
     "data": {
      "text/html": [
       "<div>\n",
       "<style scoped>\n",
       "    .dataframe tbody tr th:only-of-type {\n",
       "        vertical-align: middle;\n",
       "    }\n",
       "\n",
       "    .dataframe tbody tr th {\n",
       "        vertical-align: top;\n",
       "    }\n",
       "\n",
       "    .dataframe thead th {\n",
       "        text-align: right;\n",
       "    }\n",
       "</style>\n",
       "<table border=\"1\" class=\"dataframe\">\n",
       "  <thead>\n",
       "    <tr style=\"text-align: right;\">\n",
       "      <th></th>\n",
       "      <th>WDIR</th>\n",
       "      <th>WSPD</th>\n",
       "      <th>GST</th>\n",
       "      <th>WVHT</th>\n",
       "      <th>DPD</th>\n",
       "      <th>APD</th>\n",
       "      <th>MWD</th>\n",
       "      <th>PRES</th>\n",
       "      <th>ATMP</th>\n",
       "      <th>WTMP</th>\n",
       "      <th>DEWP</th>\n",
       "      <th>VIS</th>\n",
       "      <th>TIDE</th>\n",
       "    </tr>\n",
       "    <tr>\n",
       "      <th>date</th>\n",
       "      <th></th>\n",
       "      <th></th>\n",
       "      <th></th>\n",
       "      <th></th>\n",
       "      <th></th>\n",
       "      <th></th>\n",
       "      <th></th>\n",
       "      <th></th>\n",
       "      <th></th>\n",
       "      <th></th>\n",
       "      <th></th>\n",
       "      <th></th>\n",
       "      <th></th>\n",
       "    </tr>\n",
       "  </thead>\n",
       "  <tbody>\n",
       "    <tr>\n",
       "      <td>2021-01-31 23:50:00</td>\n",
       "      <td>207</td>\n",
       "      <td>7.0</td>\n",
       "      <td>8.3</td>\n",
       "      <td>1.52</td>\n",
       "      <td>5.88</td>\n",
       "      <td>4.90</td>\n",
       "      <td>162</td>\n",
       "      <td>1009.1</td>\n",
       "      <td>15.9</td>\n",
       "      <td>13.6</td>\n",
       "      <td>14.3</td>\n",
       "      <td>99.0</td>\n",
       "      <td>99.0</td>\n",
       "    </tr>\n",
       "    <tr>\n",
       "      <td>2021-02-01 00:50:00</td>\n",
       "      <td>208</td>\n",
       "      <td>8.0</td>\n",
       "      <td>9.9</td>\n",
       "      <td>1.38</td>\n",
       "      <td>6.67</td>\n",
       "      <td>4.91</td>\n",
       "      <td>143</td>\n",
       "      <td>1008.6</td>\n",
       "      <td>15.7</td>\n",
       "      <td>13.6</td>\n",
       "      <td>14.3</td>\n",
       "      <td>99.0</td>\n",
       "      <td>99.0</td>\n",
       "    </tr>\n",
       "    <tr>\n",
       "      <td>2021-02-01 01:50:00</td>\n",
       "      <td>216</td>\n",
       "      <td>10.3</td>\n",
       "      <td>11.8</td>\n",
       "      <td>1.58</td>\n",
       "      <td>6.25</td>\n",
       "      <td>4.79</td>\n",
       "      <td>157</td>\n",
       "      <td>1007.8</td>\n",
       "      <td>17.2</td>\n",
       "      <td>13.7</td>\n",
       "      <td>15.7</td>\n",
       "      <td>99.0</td>\n",
       "      <td>99.0</td>\n",
       "    </tr>\n",
       "    <tr>\n",
       "      <td>2021-02-01 02:50:00</td>\n",
       "      <td>273</td>\n",
       "      <td>8.5</td>\n",
       "      <td>11.6</td>\n",
       "      <td>1.55</td>\n",
       "      <td>5.88</td>\n",
       "      <td>5.01</td>\n",
       "      <td>151</td>\n",
       "      <td>1008.3</td>\n",
       "      <td>15.9</td>\n",
       "      <td>13.7</td>\n",
       "      <td>15.0</td>\n",
       "      <td>99.0</td>\n",
       "      <td>99.0</td>\n",
       "    </tr>\n",
       "    <tr>\n",
       "      <td>2021-02-01 03:50:00</td>\n",
       "      <td>320</td>\n",
       "      <td>2.5</td>\n",
       "      <td>3.5</td>\n",
       "      <td>1.45</td>\n",
       "      <td>6.67</td>\n",
       "      <td>5.43</td>\n",
       "      <td>140</td>\n",
       "      <td>1008.5</td>\n",
       "      <td>14.6</td>\n",
       "      <td>13.7</td>\n",
       "      <td>14.6</td>\n",
       "      <td>99.0</td>\n",
       "      <td>99.0</td>\n",
       "    </tr>\n",
       "  </tbody>\n",
       "</table>\n",
       "</div>"
      ],
      "text/plain": [
       "                     WDIR  WSPD   GST  WVHT   DPD   APD  MWD    PRES  ATMP  \\\n",
       "date                                                                         \n",
       "2021-01-31 23:50:00   207   7.0   8.3  1.52  5.88  4.90  162  1009.1  15.9   \n",
       "2021-02-01 00:50:00   208   8.0   9.9  1.38  6.67  4.91  143  1008.6  15.7   \n",
       "2021-02-01 01:50:00   216  10.3  11.8  1.58  6.25  4.79  157  1007.8  17.2   \n",
       "2021-02-01 02:50:00   273   8.5  11.6  1.55  5.88  5.01  151  1008.3  15.9   \n",
       "2021-02-01 03:50:00   320   2.5   3.5  1.45  6.67  5.43  140  1008.5  14.6   \n",
       "\n",
       "                     WTMP  DEWP   VIS  TIDE  \n",
       "date                                         \n",
       "2021-01-31 23:50:00  13.6  14.3  99.0  99.0  \n",
       "2021-02-01 00:50:00  13.6  14.3  99.0  99.0  \n",
       "2021-02-01 01:50:00  13.7  15.7  99.0  99.0  \n",
       "2021-02-01 02:50:00  13.7  15.0  99.0  99.0  \n",
       "2021-02-01 03:50:00  13.7  14.6  99.0  99.0  "
      ]
     },
     "execution_count": 4,
     "metadata": {},
     "output_type": "execute_result"
    }
   ],
   "source": [
    "met_df.index = pd.to_datetime(\n",
    "    dict(\n",
    "        year=met_df['#YY'], \n",
    "        month=met_df.MM, \n",
    "        day=met_df.DD, \n",
    "        hour=met_df.hh,\n",
    "        minute=met_df.mm\n",
    "    )\n",
    ")\n",
    "met_df.index.name = 'date'\n",
    "met_df.drop(['#YY','MM','DD','hh','mm'], axis=1, inplace=True)\n",
    "met_df.head()"
   ]
  },
  {
   "cell_type": "markdown",
   "metadata": {},
   "source": [
    "Because the input dataset does not include relative humitidy we can estimate it using an approximation to the Clausius–Clapeyron relation using air and dewpoint temperatures. Relative humitidy is needed in the aerodynamic mass-transfer evaporation calculations."
   ]
  },
  {
   "cell_type": "code",
   "execution_count": 5,
   "metadata": {},
   "outputs": [],
   "source": [
    "# vapor pressure and saturation vapor pressure using Clausius–Clapeyron relation\n",
    "met_df['e'] = 0.611 * np.exp( 5423 * ((1/273) - (1/(met_df.DEWP+273.15))) )\n",
    "met_df['es'] = 0.611 * np.exp( 5423 * ((1/273) - (1/(met_df.ATMP+273.15))) )"
   ]
  },
  {
   "cell_type": "code",
   "execution_count": 6,
   "metadata": {},
   "outputs": [
    {
     "data": {
      "text/plain": [
       "Text(0, 0.5, 'estimated relative humitidy')"
      ]
     },
     "execution_count": 6,
     "metadata": {},
     "output_type": "execute_result"
    },
    {
     "data": {
      "image/png": "[encoded data removed]",
      "text/plain": [
       "<Figure size 576x288 with 1 Axes>"
      ]
     },
     "metadata": {
      "needs_background": "light"
     },
     "output_type": "display_data"
    }
   ],
   "source": [
    "# calculate relative humitidy\n",
    "met_df['RH'] = 100 * (met_df.e/met_df.es)\n",
    "\n",
    "plt.figure(figsize=(8,4))\n",
    "met_df.RH.plot()\n",
    "plt.ylabel('estimated relative humitidy')"
   ]
  },
  {
   "cell_type": "markdown",
   "metadata": {},
   "source": [
    "In this case we do *not* need to convert air pressure to millibars because 1 hPa = 1 mbar."
   ]
  },
  {
   "cell_type": "markdown",
   "metadata": {},
   "source": [
    "# Create an ``Aero`` object\n",
    "\n",
    "The ``Aero`` object allows for loading a ``pandas.DataFrame`` containing meterological data required for calculating aerodynamic mass-transfer open water evaporation in parrallel. The object can be initialized from a ``pandas.DataFrame`` or the ``pandas.DataFrame`` can be assigned later, e.g."
   ]
  },
  {
   "cell_type": "code",
   "execution_count": 7,
   "metadata": {},
   "outputs": [],
   "source": [
    "Aero_empty = Aero()\n",
    "Aero_with_df = Aero(met_df)"
   ]
  },
  {
   "cell_type": "code",
   "execution_count": 8,
   "metadata": {},
   "outputs": [
    {
     "data": {
      "text/plain": [
       "True"
      ]
     },
     "execution_count": 8,
     "metadata": {},
     "output_type": "execute_result"
    }
   ],
   "source": [
    "Aero_empty.df is None"
   ]
  },
  {
   "cell_type": "code",
   "execution_count": 9,
   "metadata": {},
   "outputs": [],
   "source": [
    "# the df property can be assigned after initialization:\n",
    "Aero_empty.df = met_df"
   ]
  },
  {
   "cell_type": "code",
   "execution_count": 10,
   "metadata": {},
   "outputs": [
    {
     "data": {
      "text/html": [
       "<div>\n",
       "<style scoped>\n",
       "    .dataframe tbody tr th:only-of-type {\n",
       "        vertical-align: middle;\n",
       "    }\n",
       "\n",
       "    .dataframe tbody tr th {\n",
       "        vertical-align: top;\n",
       "    }\n",
       "\n",
       "    .dataframe thead th {\n",
       "        text-align: right;\n",
       "    }\n",
       "</style>\n",
       "<table border=\"1\" class=\"dataframe\">\n",
       "  <thead>\n",
       "    <tr style=\"text-align: right;\">\n",
       "      <th></th>\n",
       "      <th>WDIR</th>\n",
       "      <th>WSPD</th>\n",
       "      <th>GST</th>\n",
       "      <th>WVHT</th>\n",
       "      <th>DPD</th>\n",
       "      <th>APD</th>\n",
       "      <th>MWD</th>\n",
       "      <th>PRES</th>\n",
       "      <th>ATMP</th>\n",
       "      <th>WTMP</th>\n",
       "      <th>DEWP</th>\n",
       "      <th>VIS</th>\n",
       "      <th>TIDE</th>\n",
       "      <th>e</th>\n",
       "      <th>es</th>\n",
       "      <th>RH</th>\n",
       "    </tr>\n",
       "    <tr>\n",
       "      <th>date</th>\n",
       "      <th></th>\n",
       "      <th></th>\n",
       "      <th></th>\n",
       "      <th></th>\n",
       "      <th></th>\n",
       "      <th></th>\n",
       "      <th></th>\n",
       "      <th></th>\n",
       "      <th></th>\n",
       "      <th></th>\n",
       "      <th></th>\n",
       "      <th></th>\n",
       "      <th></th>\n",
       "      <th></th>\n",
       "      <th></th>\n",
       "      <th></th>\n",
       "    </tr>\n",
       "  </thead>\n",
       "  <tbody>\n",
       "    <tr>\n",
       "      <td>2021-01-31 23:50:00</td>\n",
       "      <td>207</td>\n",
       "      <td>7.0</td>\n",
       "      <td>8.3</td>\n",
       "      <td>1.52</td>\n",
       "      <td>5.88</td>\n",
       "      <td>4.90</td>\n",
       "      <td>162</td>\n",
       "      <td>1009.1</td>\n",
       "      <td>15.9</td>\n",
       "      <td>13.6</td>\n",
       "      <td>14.3</td>\n",
       "      <td>99.0</td>\n",
       "      <td>99.0</td>\n",
       "      <td>1.658512</td>\n",
       "      <td>1.841077</td>\n",
       "      <td>90.083807</td>\n",
       "    </tr>\n",
       "    <tr>\n",
       "      <td>2021-02-01 00:50:00</td>\n",
       "      <td>208</td>\n",
       "      <td>8.0</td>\n",
       "      <td>9.9</td>\n",
       "      <td>1.38</td>\n",
       "      <td>6.67</td>\n",
       "      <td>4.91</td>\n",
       "      <td>143</td>\n",
       "      <td>1008.6</td>\n",
       "      <td>15.7</td>\n",
       "      <td>13.6</td>\n",
       "      <td>14.3</td>\n",
       "      <td>99.0</td>\n",
       "      <td>99.0</td>\n",
       "      <td>1.658512</td>\n",
       "      <td>1.817315</td>\n",
       "      <td>91.261670</td>\n",
       "    </tr>\n",
       "    <tr>\n",
       "      <td>2021-02-01 01:50:00</td>\n",
       "      <td>216</td>\n",
       "      <td>10.3</td>\n",
       "      <td>11.8</td>\n",
       "      <td>1.58</td>\n",
       "      <td>6.25</td>\n",
       "      <td>4.79</td>\n",
       "      <td>157</td>\n",
       "      <td>1007.8</td>\n",
       "      <td>17.2</td>\n",
       "      <td>13.7</td>\n",
       "      <td>15.7</td>\n",
       "      <td>99.0</td>\n",
       "      <td>99.0</td>\n",
       "      <td>1.817315</td>\n",
       "      <td>2.002412</td>\n",
       "      <td>90.756312</td>\n",
       "    </tr>\n",
       "    <tr>\n",
       "      <td>2021-02-01 02:50:00</td>\n",
       "      <td>273</td>\n",
       "      <td>8.5</td>\n",
       "      <td>11.6</td>\n",
       "      <td>1.55</td>\n",
       "      <td>5.88</td>\n",
       "      <td>5.01</td>\n",
       "      <td>151</td>\n",
       "      <td>1008.3</td>\n",
       "      <td>15.9</td>\n",
       "      <td>13.7</td>\n",
       "      <td>15.0</td>\n",
       "      <td>99.0</td>\n",
       "      <td>99.0</td>\n",
       "      <td>1.736292</td>\n",
       "      <td>1.841077</td>\n",
       "      <td>94.308483</td>\n",
       "    </tr>\n",
       "    <tr>\n",
       "      <td>2021-02-01 03:50:00</td>\n",
       "      <td>320</td>\n",
       "      <td>2.5</td>\n",
       "      <td>3.5</td>\n",
       "      <td>1.45</td>\n",
       "      <td>6.67</td>\n",
       "      <td>5.43</td>\n",
       "      <td>140</td>\n",
       "      <td>1008.5</td>\n",
       "      <td>14.6</td>\n",
       "      <td>13.7</td>\n",
       "      <td>14.6</td>\n",
       "      <td>99.0</td>\n",
       "      <td>99.0</td>\n",
       "      <td>1.691456</td>\n",
       "      <td>1.691456</td>\n",
       "      <td>100.000000</td>\n",
       "    </tr>\n",
       "  </tbody>\n",
       "</table>\n",
       "</div>"
      ],
      "text/plain": [
       "                     WDIR  WSPD   GST  WVHT   DPD   APD  MWD    PRES  ATMP  \\\n",
       "date                                                                         \n",
       "2021-01-31 23:50:00   207   7.0   8.3  1.52  5.88  4.90  162  1009.1  15.9   \n",
       "2021-02-01 00:50:00   208   8.0   9.9  1.38  6.67  4.91  143  1008.6  15.7   \n",
       "2021-02-01 01:50:00   216  10.3  11.8  1.58  6.25  4.79  157  1007.8  17.2   \n",
       "2021-02-01 02:50:00   273   8.5  11.6  1.55  5.88  5.01  151  1008.3  15.9   \n",
       "2021-02-01 03:50:00   320   2.5   3.5  1.45  6.67  5.43  140  1008.5  14.6   \n",
       "\n",
       "                     WTMP  DEWP   VIS  TIDE         e        es          RH  \n",
       "date                                                                         \n",
       "2021-01-31 23:50:00  13.6  14.3  99.0  99.0  1.658512  1.841077   90.083807  \n",
       "2021-02-01 00:50:00  13.6  14.3  99.0  99.0  1.658512  1.817315   91.261670  \n",
       "2021-02-01 01:50:00  13.7  15.7  99.0  99.0  1.817315  2.002412   90.756312  \n",
       "2021-02-01 02:50:00  13.7  15.0  99.0  99.0  1.736292  1.841077   94.308483  \n",
       "2021-02-01 03:50:00  13.7  14.6  99.0  99.0  1.691456  1.691456  100.000000  "
      ]
     },
     "execution_count": 10,
     "metadata": {},
     "output_type": "execute_result"
    }
   ],
   "source": [
    "# the data has been added\n",
    "Aero_empty.df.head()"
   ]
  },
  {
   "cell_type": "code",
   "execution_count": 11,
   "metadata": {},
   "outputs": [
    {
     "ename": "TypeError",
     "evalue": "Must assign a pandas.DataFrame object",
     "output_type": "error",
     "traceback": [
      "\u001b[0;31m---------------------------------------------------------------------------\u001b[0m",
      "\u001b[0;31mTypeError\u001b[0m                                 Traceback (most recent call last)",
      "\u001b[0;32m<ipython-input-11-5de371e56275>\u001b[0m in \u001b[0;36m<module>\u001b[0;34m\u001b[0m\n\u001b[1;32m      1\u001b[0m \u001b[0;31m# this will not work, df needs to be a dataframe\u001b[0m\u001b[0;34m\u001b[0m\u001b[0;34m\u001b[0m\u001b[0;34m\u001b[0m\u001b[0m\n\u001b[0;32m----> 2\u001b[0;31m \u001b[0mAero_empty\u001b[0m\u001b[0;34m.\u001b[0m\u001b[0mdf\u001b[0m \u001b[0;34m=\u001b[0m \u001b[0;34m'high five'\u001b[0m\u001b[0;34m\u001b[0m\u001b[0;34m\u001b[0m\u001b[0m\n\u001b[0m",
      "\u001b[0;32m~/AeroEvap/aeroevap/aero.py\u001b[0m in \u001b[0;36mdf\u001b[0;34m(self, df)\u001b[0m\n\u001b[1;32m    125\u001b[0m     \u001b[0;32mdef\u001b[0m \u001b[0mdf\u001b[0m\u001b[0;34m(\u001b[0m\u001b[0mself\u001b[0m\u001b[0;34m,\u001b[0m \u001b[0mdf\u001b[0m\u001b[0;34m)\u001b[0m\u001b[0;34m:\u001b[0m\u001b[0;34m\u001b[0m\u001b[0;34m\u001b[0m\u001b[0m\n\u001b[1;32m    126\u001b[0m         \u001b[0;32mif\u001b[0m \u001b[0;32mnot\u001b[0m \u001b[0misinstance\u001b[0m\u001b[0;34m(\u001b[0m\u001b[0mdf\u001b[0m\u001b[0;34m,\u001b[0m \u001b[0mpd\u001b[0m\u001b[0;34m.\u001b[0m\u001b[0mDataFrame\u001b[0m\u001b[0;34m)\u001b[0m\u001b[0;34m:\u001b[0m\u001b[0;34m\u001b[0m\u001b[0;34m\u001b[0m\u001b[0m\n\u001b[0;32m--> 127\u001b[0;31m             \u001b[0;32mraise\u001b[0m \u001b[0mTypeError\u001b[0m\u001b[0;34m(\u001b[0m\u001b[0;34m\"Must assign a pandas.DataFrame object\"\u001b[0m\u001b[0;34m)\u001b[0m\u001b[0;34m\u001b[0m\u001b[0;34m\u001b[0m\u001b[0m\n\u001b[0m\u001b[1;32m    128\u001b[0m         \u001b[0mself\u001b[0m\u001b[0;34m.\u001b[0m\u001b[0m_df\u001b[0m \u001b[0;34m=\u001b[0m \u001b[0mdf\u001b[0m\u001b[0;34m\u001b[0m\u001b[0;34m\u001b[0m\u001b[0m\n\u001b[1;32m    129\u001b[0m \u001b[0;34m\u001b[0m\u001b[0m\n",
      "\u001b[0;31mTypeError\u001b[0m: Must assign a pandas.DataFrame object"
     ]
    }
   ],
   "source": [
    "# this will not work, df needs to be a dataframe\n",
    "Aero_empty.df = 'high five'"
   ]
  },
  {
   "cell_type": "markdown",
   "metadata": {},
   "source": [
    "**Tip:** the ``df`` is a property of the ``Aero`` class which means it can be assigned or reassigned if, for example, you wanted to run the evaporation calculations on a modified version of input meterological time series without creating a new ``Aero`` instance."
   ]
  },
  {
   "cell_type": "markdown",
   "metadata": {},
   "source": [
    "## Input variables and units\n",
    "\n",
    "The meterological variables needed for running the aerodynamic mass-transfer estimation of evaporation are the following:\n",
    "\n",
    "| variable          | units | naming |\n",
    "|-------------------|-------|--------|\n",
    "| wind speed        | m/s   | WS     |\n",
    "| air pressure      | mbar  | P      |\n",
    "| air temperature   | C     | T_air  |\n",
    "| skin temperature  | C     | T_skin |\n",
    "| relative humidity | 0-100 | RH     |\n",
    "\n",
    "where the \"naming\" column refers to the internal names expected by the ``Aero.run`` method, i.e. the column headers in the dataframe should either be named accordingly or a dictionary that maps your column names to those internal names can be passed (see examples below). \n",
    "\n",
    "To run the evaporation calculation you will also need the anemometer height in meters and the temporal sampling frequency of the data in seconds."
   ]
  },
  {
   "cell_type": "markdown",
   "metadata": {},
   "source": [
    "## Run calculation on time series"
   ]
  },
  {
   "cell_type": "code",
   "execution_count": 12,
   "metadata": {},
   "outputs": [],
   "source": [
    "# make a naming dict to match up columns with Aero variable names\n",
    "names = {\n",
    "    'WSPD' : 'WS',\n",
    "    'ATMP' : 'T_air',\n",
    "    'WTMP' : 'T_skin',\n",
    "    'PRES' : 'P'\n",
    "}"
   ]
  },
  {
   "cell_type": "markdown",
   "metadata": {},
   "source": [
    "Now we are ready to run the aerodynamic mass-transer evaporation on all the time series in our dataframe. Lastly, the sensor height of the anemometer and temporal sampling frequency of the data needs to be supplied. \n",
    "\n",
    "This example assumes there are 8 physical and logical processors available for parallelization, if not specified the ``Aero.run`` routine wil try to use half of the avialble processors."
   ]
  },
  {
   "cell_type": "code",
   "execution_count": 13,
   "metadata": {},
   "outputs": [],
   "source": [
    "np.seterr('ignore')\n",
    "# create a new Aero object and calculate evaporation on all rows\n",
    "A = Aero(met_df)\n",
    "A.run(sensor_height=4, timestep=600, variable_names=names)"
   ]
  },
  {
   "cell_type": "markdown",
   "metadata": {},
   "source": [
    "After the calculations are complete three variables will be added to the ``Aero.df`` dataframe: 'E', 'Ce', 'VPD', and 'stability' which are evaporation in mm/timestep, bulk transfer coefficient, vapor pressure deficit (kPa), and the Monin-Obhukov Similarity Theory stability parameter (z/L). "
   ]
  },
  {
   "cell_type": "code",
   "execution_count": 14,
   "metadata": {},
   "outputs": [
    {
     "data": {
      "text/html": [
       "<div>\n",
       "<style scoped>\n",
       "    .dataframe tbody tr th:only-of-type {\n",
       "        vertical-align: middle;\n",
       "    }\n",
       "\n",
       "    .dataframe tbody tr th {\n",
       "        vertical-align: top;\n",
       "    }\n",
       "\n",
       "    .dataframe thead th {\n",
       "        text-align: right;\n",
       "    }\n",
       "</style>\n",
       "<table border=\"1\" class=\"dataframe\">\n",
       "  <thead>\n",
       "    <tr style=\"text-align: right;\">\n",
       "      <th></th>\n",
       "      <th>E</th>\n",
       "      <th>Ce</th>\n",
       "      <th>VPD</th>\n",
       "      <th>stability</th>\n",
       "    </tr>\n",
       "    <tr>\n",
       "      <th>date</th>\n",
       "      <th></th>\n",
       "      <th></th>\n",
       "      <th></th>\n",
       "      <th></th>\n",
       "    </tr>\n",
       "  </thead>\n",
       "  <tbody>\n",
       "    <tr>\n",
       "      <td>2021-01-31 23:50:00</td>\n",
       "      <td>-0.002865</td>\n",
       "      <td>0.001296</td>\n",
       "      <td>-0.069970</td>\n",
       "      <td>0.075544</td>\n",
       "    </tr>\n",
       "    <tr>\n",
       "      <td>2021-02-01 00:50:00</td>\n",
       "      <td>-0.003473</td>\n",
       "      <td>0.001368</td>\n",
       "      <td>-0.070289</td>\n",
       "      <td>0.048386</td>\n",
       "    </tr>\n",
       "    <tr>\n",
       "      <td>2021-02-01 01:50:00</td>\n",
       "      <td>-0.014245</td>\n",
       "      <td>0.001443</td>\n",
       "      <td>-0.213278</td>\n",
       "      <td>0.042489</td>\n",
       "    </tr>\n",
       "    <tr>\n",
       "      <td>2021-02-01 02:50:00</td>\n",
       "      <td>-0.007264</td>\n",
       "      <td>0.001391</td>\n",
       "      <td>-0.136129</td>\n",
       "      <td>0.043363</td>\n",
       "    </tr>\n",
       "    <tr>\n",
       "      <td>2021-02-01 03:50:00</td>\n",
       "      <td>-0.000994</td>\n",
       "      <td>0.000932</td>\n",
       "      <td>-0.094175</td>\n",
       "      <td>0.367295</td>\n",
       "    </tr>\n",
       "  </tbody>\n",
       "</table>\n",
       "</div>"
      ],
      "text/plain": [
       "                            E        Ce       VPD  stability\n",
       "date                                                        \n",
       "2021-01-31 23:50:00 -0.002865  0.001296 -0.069970   0.075544\n",
       "2021-02-01 00:50:00 -0.003473  0.001368 -0.070289   0.048386\n",
       "2021-02-01 01:50:00 -0.014245  0.001443 -0.213278   0.042489\n",
       "2021-02-01 02:50:00 -0.007264  0.001391 -0.136129   0.043363\n",
       "2021-02-01 03:50:00 -0.000994  0.000932 -0.094175   0.367295"
      ]
     },
     "execution_count": 14,
     "metadata": {},
     "output_type": "execute_result"
    }
   ],
   "source": [
    "A.df[['E', 'Ce', 'VPD', 'stability']].head()"
   ]
  },
  {
   "cell_type": "markdown",
   "metadata": {},
   "source": [
    "View the calculated evaporation,"
   ]
  },
  {
   "cell_type": "code",
   "execution_count": 15,
   "metadata": {},
   "outputs": [
    {
     "data": {
      "text/plain": [
       "Text(0, 0.5, 'evaporation mm/10 min')"
      ]
     },
     "execution_count": 15,
     "metadata": {},
     "output_type": "execute_result"
    },
    {
     "data": {
      "image/png": "[encoded data removed]",
      "text/plain": [
       "<Figure size 576x288 with 1 Axes>"
      ]
     },
     "metadata": {
      "needs_background": "light"
     },
     "output_type": "display_data"
    }
   ],
   "source": [
    "plt.figure(figsize=(8,4))\n",
    "A.df.E.plot()\n",
    "plt.ylabel('evaporation mm/10 min')"
   ]
  },
  {
   "cell_type": "markdown",
   "metadata": {},
   "source": [
    "The calculated open-water evaporation is shown below after creating a daily sum."
   ]
  },
  {
   "cell_type": "code",
   "execution_count": 16,
   "metadata": {
    "scrolled": true
   },
   "outputs": [
    {
     "data": {
      "text/plain": [
       "Text(0, 0.5, 'evaporation mm/day')"
      ]
     },
     "execution_count": 16,
     "metadata": {},
     "output_type": "execute_result"
    },
    {
     "data": {
      "image/png": "[encoded data removed]",
      "text/plain": [
       "<Figure size 576x288 with 1 Axes>"
      ]
     },
     "metadata": {
      "needs_background": "light"
     },
     "output_type": "display_data"
    }
   ],
   "source": [
    "import matplotlib.pyplot as plt\n",
    "plt.figure(figsize=(8,4))\n",
    "A.df.E.resample('D').sum().plot()\n",
    "plt.ylabel('evaporation mm/day')"
   ]
  },
  {
   "cell_type": "markdown",
   "metadata": {},
   "source": [
    "And the wind speed relation versus the calculated evaporation."
   ]
  },
  {
   "cell_type": "code",
   "execution_count": 17,
   "metadata": {},
   "outputs": [
    {
     "data": {
      "text/plain": [
       "Text(0.5, 0, 'mean daily wind speed m/s')"
      ]
     },
     "execution_count": 17,
     "metadata": {},
     "output_type": "execute_result"
    },
    {
     "data": {
      "image/png": "[encoded data removed]",
      "text/plain": [
       "<Figure size 576x288 with 1 Axes>"
      ]
     },
     "metadata": {
      "needs_background": "light"
     },
     "output_type": "display_data"
    }
   ],
   "source": [
    "plt.figure(figsize=(8,4))\n",
    "plt.scatter(A.df.WSPD.resample('D').mean(), A.df.E.resample('D').sum())\n",
    "plt.ylabel('evaporation mm/day')\n",
    "plt.xlabel('mean daily wind speed m/s')"
   ]
  },
  {
   "cell_type": "markdown",
   "metadata": {},
   "source": [
    "We can use the Monin-Obhukov Similarity Theory stability parameter (z/L) for relating the wind speed to the bulk transfer coefficient as well by classifying them by unstable, stable, and neutral conditions."
   ]
  },
  {
   "cell_type": "code",
   "execution_count": 18,
   "metadata": {},
   "outputs": [
    {
     "name": "stderr",
     "output_type": "stream",
     "text": [
      "/home/john/anaconda3/envs/aeroevap/lib/python3.7/site-packages/numpy/lib/type_check.py:161: FutureWarning: `real` is deprecated and will be removed in a future version. To eliminate this warning for a Series `ser`, use `np.real(ser.to_numpy())` or `ser.to_numpy().real`.\n",
      "  return val.real\n"
     ]
    },
    {
     "data": {
      "text/plain": [
       "<matplotlib.legend.Legend at 0x7fdc5e5d5fd0>"
      ]
     },
     "execution_count": 18,
     "metadata": {},
     "output_type": "execute_result"
    },
    {
     "data": {
      "image/png": "[encoded data removed]",
      "text/plain": [
       "<Figure size 576x432 with 1 Axes>"
      ]
     },
     "metadata": {
      "needs_background": "light"
     },
     "output_type": "display_data"
    }
   ],
   "source": [
    "stable = np.real(A.df.stability) > 0 \n",
    "unstable = np.real(A.df.stability) < 0\n",
    "neutral = np.real(A.df.stability) == 0\n",
    "\n",
    "plt.figure(figsize=(8,6))\n",
    "plt.scatter(A.df.WSPD[stable], A.df.Ce[stable], marker='x', color='blue', label='stable')\n",
    "plt.scatter(A.df.WSPD[unstable], A.df.Ce[unstable], marker='x', color='red', label='unstable')\n",
    "plt.scatter(A.df.WSPD[neutral], A.df.Ce[neutral], marker='o', color='black', label='neutral')\n",
    "plt.ylim(0,0.006)\n",
    "plt.ylabel(r'$C_e$', fontsize=12)\n",
    "plt.xlabel('Wind speed m/s')\n",
    "plt.legend()"
   ]
  },
  {
   "cell_type": "markdown",
   "metadata": {},
   "source": [
    "## Single calculation\n",
    "\n",
    "The ``Aero`` class also provides a method ``Aero.single_calc`` that can be used on a single set of meterological data to calculate the instantaneous open-water evaporation. It requires the same inputs as ``Aero.run`` however the inputs are scalars as opposed to time series. For example using the first timestamp of our example buoy data we can calculate E, Ce, VPD, and stability:"
   ]
  },
  {
   "cell_type": "code",
   "execution_count": 19,
   "metadata": {},
   "outputs": [],
   "source": [
    "datetime = '2019-08-01 00:00:00'\n",
    "wind = 3.3\n",
    "pressure = 1021.2\n",
    "T_air = 18.1\n",
    "T_skin = 18.4\n",
    "RH = 80.26\n",
    "sensor_height = 4\n",
    "timestep = 600\n",
    "\n",
    "E, Ce, VPD, stability = Aero.single_calc(\n",
    "    datetime,\n",
    "    wind,\n",
    "    pressure,\n",
    "    T_air,\n",
    "    T_skin,\n",
    "    RH,\n",
    "    sensor_height,\n",
    "    timestep\n",
    ")"
   ]
  },
  {
   "cell_type": "code",
   "execution_count": 20,
   "metadata": {},
   "outputs": [
    {
     "data": {
      "text/plain": [
       "(0.008724959939647368,\n",
       " 0.001310850807452679,\n",
       " 0.44947250457458576,\n",
       " -0.049355020952319244)"
      ]
     },
     "execution_count": 20,
     "metadata": {},
     "output_type": "execute_result"
    }
   ],
   "source": [
    "E, Ce, VPD, stability"
   ]
  }
 ],
 "metadata": {
  "kernelspec": {
   "display_name": "Python 3",
   "language": "python",
   "name": "python3"
  },
  "language_info": {
   "codemirror_mode": {
    "name": "ipython",
    "version": 3
   },
   "file_extension": ".py",
   "mimetype": "text/x-python",
   "name": "python",
   "nbconvert_exporter": "python",
   "pygments_lexer": "ipython3",
   "version": "3.7.4"
  }
 },
 "nbformat": 4,
 "nbformat_minor": 2
}
