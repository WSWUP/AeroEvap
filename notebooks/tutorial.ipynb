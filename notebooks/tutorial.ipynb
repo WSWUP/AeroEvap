{
 "cells": [
  {
   "cell_type": "markdown",
   "metadata": {},
   "source": [
    "# Tutorial\n",
    "\n",
    "Basic usage with an example dataset. Note, this tutorial uses the matplotlib graphing module which is *not* a dependency of ``AeroEvap``, be sure to install it to your environment before running this tutorial if you want the plots to display correctly."
   ]
  },
  {
   "cell_type": "code",
   "execution_count": 1,
   "metadata": {},
   "outputs": [],
   "source": [
    "import pandas as pd\n",
    "import numpy as np\n",
    "from aeroevap import Aero\n",
    "from IPython.display import IFrame\n",
    "import matplotlib.pyplot as plt\n",
    "%matplotlib inline"
   ]
  },
  {
   "cell_type": "markdown",
   "metadata": {},
   "source": [
    "## Example data \n",
    "\n",
    "This example uses buoy data from a location near Savannah, GA (NOAA station ID is 41008). The buoy is maintained by the National Data Buoy Center (NDBC), more buoy information is shown in the embededd page below. The meterologicla data used in this example is hosted by NOAA and downloaded directly and formatted for a month of data. "
   ]
  },
  {
   "cell_type": "code",
   "execution_count": 11,
   "metadata": {},
   "outputs": [
    {
     "data": {
      "text/html": [
       "\n",
       "        <iframe\n",
       "            width=\"700\"\n",
       "            height=\"500\"\n",
       "            src=\"https://www.ndbc.noaa.gov/station_page.php?station=41008\"\n",
       "            frameborder=\"0\"\n",
       "            allowfullscreen\n",
       "        ></iframe>\n",
       "        "
      ],
      "text/plain": [
       "<IPython.lib.display.IFrame at 0x7fb20fc3df10>"
      ]
     },
     "execution_count": 11,
     "metadata": {},
     "output_type": "execute_result"
    }
   ],
   "source": [
    "IFrame(src='https://www.ndbc.noaa.gov/station_page.php?station=41008', width=700, height=500)"
   ]
  },
  {
   "cell_type": "markdown",
   "metadata": {},
   "source": [
    "The line below downloads the time series of current year buoy standard meterological data directly from the NDBC."
   ]
  },
  {
   "cell_type": "markdown",
   "metadata": {},
   "source": [
    "Input units:\n",
    "\n",
    "| WDIR   | WSPD   | GST   | WVHT   | DPD   | APD   | MWD   | PRES   | ATMP   | WTMP   | DEWP   | VIS   | TIDE   |\n",
    "|:-------|:-------|:------|:-------|:------|:------|:------|:-------|:-------|:-------|:-------|:------|:-------|\n",
    "| degT   | m/s    | m/s   | m      | sec   | sec   | deg   | hPa    | degC   | degC   | degC   | nmi   | ft     |"
   ]
  },
  {
   "cell_type": "code",
   "execution_count": 12,
   "metadata": {},
   "outputs": [],
   "source": [
    "# get standard meterological data from National Data Buoy Center\n",
    "met_df = pd.read_csv(\n",
    "    'https://www.ndbc.noaa.gov/data/l_stdmet/41008.txt', \n",
    "    delim_whitespace=True, skiprows=[1], na_values=[999.0]\n",
    ")"
   ]
  },
  {
   "cell_type": "markdown",
   "metadata": {},
   "source": [
    "Make a datetime index and clean up the dataframe."
   ]
  },
  {
   "cell_type": "code",
   "execution_count": 13,
   "metadata": {},
   "outputs": [
    {
     "data": {
      "text/html": [
       "<div>\n",
       "<style scoped>\n",
       "    .dataframe tbody tr th:only-of-type {\n",
       "        vertical-align: middle;\n",
       "    }\n",
       "\n",
       "    .dataframe tbody tr th {\n",
       "        vertical-align: top;\n",
       "    }\n",
       "\n",
       "    .dataframe thead th {\n",
       "        text-align: right;\n",
       "    }\n",
       "</style>\n",
       "<table border=\"1\" class=\"dataframe\">\n",
       "  <thead>\n",
       "    <tr style=\"text-align: right;\">\n",
       "      <th></th>\n",
       "      <th>WDIR</th>\n",
       "      <th>WSPD</th>\n",
       "      <th>GST</th>\n",
       "      <th>WVHT</th>\n",
       "      <th>DPD</th>\n",
       "      <th>APD</th>\n",
       "      <th>MWD</th>\n",
       "      <th>PRES</th>\n",
       "      <th>ATMP</th>\n",
       "      <th>WTMP</th>\n",
       "      <th>DEWP</th>\n",
       "      <th>VIS</th>\n",
       "      <th>TIDE</th>\n",
       "    </tr>\n",
       "    <tr>\n",
       "      <th>date</th>\n",
       "      <th></th>\n",
       "      <th></th>\n",
       "      <th></th>\n",
       "      <th></th>\n",
       "      <th></th>\n",
       "      <th></th>\n",
       "      <th></th>\n",
       "      <th></th>\n",
       "      <th></th>\n",
       "      <th></th>\n",
       "      <th></th>\n",
       "      <th></th>\n",
       "      <th></th>\n",
       "    </tr>\n",
       "  </thead>\n",
       "  <tbody>\n",
       "    <tr>\n",
       "      <td>2020-01-31 23:50:00</td>\n",
       "      <td>359</td>\n",
       "      <td>10.1</td>\n",
       "      <td>11.8</td>\n",
       "      <td>1.80</td>\n",
       "      <td>8.33</td>\n",
       "      <td>5.01</td>\n",
       "      <td>101.0</td>\n",
       "      <td>1016.8</td>\n",
       "      <td>11.0</td>\n",
       "      <td>13.9</td>\n",
       "      <td>10.4</td>\n",
       "      <td>99.0</td>\n",
       "      <td>99.0</td>\n",
       "    </tr>\n",
       "    <tr>\n",
       "      <td>2020-02-01 00:50:00</td>\n",
       "      <td>349</td>\n",
       "      <td>8.1</td>\n",
       "      <td>9.6</td>\n",
       "      <td>1.68</td>\n",
       "      <td>5.56</td>\n",
       "      <td>4.99</td>\n",
       "      <td>69.0</td>\n",
       "      <td>1017.6</td>\n",
       "      <td>10.6</td>\n",
       "      <td>13.9</td>\n",
       "      <td>10.0</td>\n",
       "      <td>99.0</td>\n",
       "      <td>99.0</td>\n",
       "    </tr>\n",
       "    <tr>\n",
       "      <td>2020-02-01 01:50:00</td>\n",
       "      <td>13</td>\n",
       "      <td>8.5</td>\n",
       "      <td>10.1</td>\n",
       "      <td>1.61</td>\n",
       "      <td>7.69</td>\n",
       "      <td>5.10</td>\n",
       "      <td>105.0</td>\n",
       "      <td>1016.4</td>\n",
       "      <td>10.1</td>\n",
       "      <td>14.0</td>\n",
       "      <td>9.5</td>\n",
       "      <td>99.0</td>\n",
       "      <td>99.0</td>\n",
       "    </tr>\n",
       "    <tr>\n",
       "      <td>2020-02-01 02:50:00</td>\n",
       "      <td>24</td>\n",
       "      <td>7.8</td>\n",
       "      <td>9.1</td>\n",
       "      <td>1.68</td>\n",
       "      <td>7.14</td>\n",
       "      <td>5.17</td>\n",
       "      <td>103.0</td>\n",
       "      <td>1015.8</td>\n",
       "      <td>10.1</td>\n",
       "      <td>14.1</td>\n",
       "      <td>9.5</td>\n",
       "      <td>99.0</td>\n",
       "      <td>99.0</td>\n",
       "    </tr>\n",
       "    <tr>\n",
       "      <td>2020-02-01 03:50:00</td>\n",
       "      <td>35</td>\n",
       "      <td>7.1</td>\n",
       "      <td>9.0</td>\n",
       "      <td>1.59</td>\n",
       "      <td>6.67</td>\n",
       "      <td>5.13</td>\n",
       "      <td>103.0</td>\n",
       "      <td>1015.6</td>\n",
       "      <td>10.6</td>\n",
       "      <td>14.2</td>\n",
       "      <td>10.0</td>\n",
       "      <td>99.0</td>\n",
       "      <td>99.0</td>\n",
       "    </tr>\n",
       "  </tbody>\n",
       "</table>\n",
       "</div>"
      ],
      "text/plain": [
       "                     WDIR  WSPD   GST  WVHT   DPD   APD    MWD    PRES  ATMP  \\\n",
       "date                                                                           \n",
       "2020-01-31 23:50:00   359  10.1  11.8  1.80  8.33  5.01  101.0  1016.8  11.0   \n",
       "2020-02-01 00:50:00   349   8.1   9.6  1.68  5.56  4.99   69.0  1017.6  10.6   \n",
       "2020-02-01 01:50:00    13   8.5  10.1  1.61  7.69  5.10  105.0  1016.4  10.1   \n",
       "2020-02-01 02:50:00    24   7.8   9.1  1.68  7.14  5.17  103.0  1015.8  10.1   \n",
       "2020-02-01 03:50:00    35   7.1   9.0  1.59  6.67  5.13  103.0  1015.6  10.6   \n",
       "\n",
       "                     WTMP  DEWP   VIS  TIDE  \n",
       "date                                         \n",
       "2020-01-31 23:50:00  13.9  10.4  99.0  99.0  \n",
       "2020-02-01 00:50:00  13.9  10.0  99.0  99.0  \n",
       "2020-02-01 01:50:00  14.0   9.5  99.0  99.0  \n",
       "2020-02-01 02:50:00  14.1   9.5  99.0  99.0  \n",
       "2020-02-01 03:50:00  14.2  10.0  99.0  99.0  "
      ]
     },
     "execution_count": 13,
     "metadata": {},
     "output_type": "execute_result"
    }
   ],
   "source": [
    "met_df.index = pd.to_datetime(\n",
    "    dict(\n",
    "        year=met_df['#YY'], \n",
    "        month=met_df.MM, \n",
    "        day=met_df.DD, \n",
    "        hour=met_df.hh,\n",
    "        minute=met_df.mm\n",
    "    )\n",
    ")\n",
    "met_df.index.name = 'date'\n",
    "met_df.drop(['#YY','MM','DD','hh','mm'], axis=1, inplace=True)\n",
    "met_df.head()"
   ]
  },
  {
   "cell_type": "markdown",
   "metadata": {},
   "source": [
    "Because the input dataset does not include relative humitidy we can estimate it using an approximation to the Clausius–Clapeyron relation using air and dewpoint temperatures. Relative humitidy is needed in the aerodynamic mass-transfer evaporation calculations."
   ]
  },
  {
   "cell_type": "code",
   "execution_count": 14,
   "metadata": {},
   "outputs": [],
   "source": [
    "# vapor pressure and saturation vapor pressure using Clausius–Clapeyron relation\n",
    "met_df['e'] = 0.611 * np.exp( 5423 * ((1/273) - (1/(met_df.DEWP+273.15))) )\n",
    "met_df['es'] = 0.611 * np.exp( 5423 * ((1/273) - (1/(met_df.ATMP+273.15))) )"
   ]
  },
  {
   "cell_type": "code",
   "execution_count": 15,
   "metadata": {},
   "outputs": [
    {
     "data": {
      "text/plain": [
       "Text(0, 0.5, 'estimated relative humitidy')"
      ]
     },
     "execution_count": 15,
     "metadata": {},
     "output_type": "execute_result"
    },
    {
     "data": {
      "image/png": "[encoded data removed]",
      "text/plain": [
       "<Figure size 576x288 with 1 Axes>"
      ]
     },
     "metadata": {
      "needs_background": "light"
     },
     "output_type": "display_data"
    }
   ],
   "source": [
    "# calculate relative humitidy\n",
    "met_df['RH'] = 100 * (met_df.e/met_df.es)\n",
    "\n",
    "plt.figure(figsize=(8,4))\n",
    "met_df.RH.plot()\n",
    "plt.ylabel('estimated relative humitidy')"
   ]
  },
  {
   "cell_type": "markdown",
   "metadata": {},
   "source": [
    "In this case we do *not* need to convert air pressure to millibars because 1 hPa = 1 mbar."
   ]
  },
  {
   "cell_type": "markdown",
   "metadata": {},
   "source": [
    "# Create an ``Aero`` object\n",
    "\n",
    "The ``Aero`` object allows for loading a ``pandas.DataFrame`` containing meterological data required for calculating aerodynamic mass-transfer open water evaporation in parrallel. The object can be initialized from a ``pandas.DataFrame`` or the ``pandas.DataFrame`` can be assigned later, e.g."
   ]
  },
  {
   "cell_type": "code",
   "execution_count": 16,
   "metadata": {},
   "outputs": [],
   "source": [
    "Aero_empty = Aero()\n",
    "Aero_with_df = Aero(met_df)"
   ]
  },
  {
   "cell_type": "code",
   "execution_count": 17,
   "metadata": {},
   "outputs": [
    {
     "data": {
      "text/plain": [
       "True"
      ]
     },
     "execution_count": 17,
     "metadata": {},
     "output_type": "execute_result"
    }
   ],
   "source": [
    "Aero_empty.df is None"
   ]
  },
  {
   "cell_type": "code",
   "execution_count": 18,
   "metadata": {},
   "outputs": [],
   "source": [
    "# the df property can be assigned after initialization:\n",
    "Aero_empty.df = met_df"
   ]
  },
  {
   "cell_type": "code",
   "execution_count": 19,
   "metadata": {},
   "outputs": [
    {
     "data": {
      "text/html": [
       "<div>\n",
       "<style scoped>\n",
       "    .dataframe tbody tr th:only-of-type {\n",
       "        vertical-align: middle;\n",
       "    }\n",
       "\n",
       "    .dataframe tbody tr th {\n",
       "        vertical-align: top;\n",
       "    }\n",
       "\n",
       "    .dataframe thead th {\n",
       "        text-align: right;\n",
       "    }\n",
       "</style>\n",
       "<table border=\"1\" class=\"dataframe\">\n",
       "  <thead>\n",
       "    <tr style=\"text-align: right;\">\n",
       "      <th></th>\n",
       "      <th>WDIR</th>\n",
       "      <th>WSPD</th>\n",
       "      <th>GST</th>\n",
       "      <th>WVHT</th>\n",
       "      <th>DPD</th>\n",
       "      <th>APD</th>\n",
       "      <th>MWD</th>\n",
       "      <th>PRES</th>\n",
       "      <th>ATMP</th>\n",
       "      <th>WTMP</th>\n",
       "      <th>DEWP</th>\n",
       "      <th>VIS</th>\n",
       "      <th>TIDE</th>\n",
       "      <th>e</th>\n",
       "      <th>es</th>\n",
       "      <th>RH</th>\n",
       "    </tr>\n",
       "    <tr>\n",
       "      <th>date</th>\n",
       "      <th></th>\n",
       "      <th></th>\n",
       "      <th></th>\n",
       "      <th></th>\n",
       "      <th></th>\n",
       "      <th></th>\n",
       "      <th></th>\n",
       "      <th></th>\n",
       "      <th></th>\n",
       "      <th></th>\n",
       "      <th></th>\n",
       "      <th></th>\n",
       "      <th></th>\n",
       "      <th></th>\n",
       "      <th></th>\n",
       "      <th></th>\n",
       "    </tr>\n",
       "  </thead>\n",
       "  <tbody>\n",
       "    <tr>\n",
       "      <td>2020-01-31 23:50:00</td>\n",
       "      <td>359</td>\n",
       "      <td>10.1</td>\n",
       "      <td>11.8</td>\n",
       "      <td>1.80</td>\n",
       "      <td>8.33</td>\n",
       "      <td>5.01</td>\n",
       "      <td>101.0</td>\n",
       "      <td>1016.8</td>\n",
       "      <td>11.0</td>\n",
       "      <td>13.9</td>\n",
       "      <td>10.4</td>\n",
       "      <td>99.0</td>\n",
       "      <td>99.0</td>\n",
       "      <td>1.279457</td>\n",
       "      <td>1.332185</td>\n",
       "      <td>96.042019</td>\n",
       "    </tr>\n",
       "    <tr>\n",
       "      <td>2020-02-01 00:50:00</td>\n",
       "      <td>349</td>\n",
       "      <td>8.1</td>\n",
       "      <td>9.6</td>\n",
       "      <td>1.68</td>\n",
       "      <td>5.56</td>\n",
       "      <td>4.99</td>\n",
       "      <td>69.0</td>\n",
       "      <td>1017.6</td>\n",
       "      <td>10.6</td>\n",
       "      <td>13.9</td>\n",
       "      <td>10.0</td>\n",
       "      <td>99.0</td>\n",
       "      <td>99.0</td>\n",
       "      <td>1.245352</td>\n",
       "      <td>1.296822</td>\n",
       "      <td>96.031065</td>\n",
       "    </tr>\n",
       "    <tr>\n",
       "      <td>2020-02-01 01:50:00</td>\n",
       "      <td>13</td>\n",
       "      <td>8.5</td>\n",
       "      <td>10.1</td>\n",
       "      <td>1.61</td>\n",
       "      <td>7.69</td>\n",
       "      <td>5.10</td>\n",
       "      <td>105.0</td>\n",
       "      <td>1016.4</td>\n",
       "      <td>10.1</td>\n",
       "      <td>14.0</td>\n",
       "      <td>9.5</td>\n",
       "      <td>99.0</td>\n",
       "      <td>99.0</td>\n",
       "      <td>1.203866</td>\n",
       "      <td>1.253801</td>\n",
       "      <td>96.017309</td>\n",
       "    </tr>\n",
       "    <tr>\n",
       "      <td>2020-02-01 02:50:00</td>\n",
       "      <td>24</td>\n",
       "      <td>7.8</td>\n",
       "      <td>9.1</td>\n",
       "      <td>1.68</td>\n",
       "      <td>7.14</td>\n",
       "      <td>5.17</td>\n",
       "      <td>103.0</td>\n",
       "      <td>1015.8</td>\n",
       "      <td>10.1</td>\n",
       "      <td>14.1</td>\n",
       "      <td>9.5</td>\n",
       "      <td>99.0</td>\n",
       "      <td>99.0</td>\n",
       "      <td>1.203866</td>\n",
       "      <td>1.253801</td>\n",
       "      <td>96.017309</td>\n",
       "    </tr>\n",
       "    <tr>\n",
       "      <td>2020-02-01 03:50:00</td>\n",
       "      <td>35</td>\n",
       "      <td>7.1</td>\n",
       "      <td>9.0</td>\n",
       "      <td>1.59</td>\n",
       "      <td>6.67</td>\n",
       "      <td>5.13</td>\n",
       "      <td>103.0</td>\n",
       "      <td>1015.6</td>\n",
       "      <td>10.6</td>\n",
       "      <td>14.2</td>\n",
       "      <td>10.0</td>\n",
       "      <td>99.0</td>\n",
       "      <td>99.0</td>\n",
       "      <td>1.245352</td>\n",
       "      <td>1.296822</td>\n",
       "      <td>96.031065</td>\n",
       "    </tr>\n",
       "  </tbody>\n",
       "</table>\n",
       "</div>"
      ],
      "text/plain": [
       "                     WDIR  WSPD   GST  WVHT   DPD   APD    MWD    PRES  ATMP  \\\n",
       "date                                                                           \n",
       "2020-01-31 23:50:00   359  10.1  11.8  1.80  8.33  5.01  101.0  1016.8  11.0   \n",
       "2020-02-01 00:50:00   349   8.1   9.6  1.68  5.56  4.99   69.0  1017.6  10.6   \n",
       "2020-02-01 01:50:00    13   8.5  10.1  1.61  7.69  5.10  105.0  1016.4  10.1   \n",
       "2020-02-01 02:50:00    24   7.8   9.1  1.68  7.14  5.17  103.0  1015.8  10.1   \n",
       "2020-02-01 03:50:00    35   7.1   9.0  1.59  6.67  5.13  103.0  1015.6  10.6   \n",
       "\n",
       "                     WTMP  DEWP   VIS  TIDE         e        es         RH  \n",
       "date                                                                        \n",
       "2020-01-31 23:50:00  13.9  10.4  99.0  99.0  1.279457  1.332185  96.042019  \n",
       "2020-02-01 00:50:00  13.9  10.0  99.0  99.0  1.245352  1.296822  96.031065  \n",
       "2020-02-01 01:50:00  14.0   9.5  99.0  99.0  1.203866  1.253801  96.017309  \n",
       "2020-02-01 02:50:00  14.1   9.5  99.0  99.0  1.203866  1.253801  96.017309  \n",
       "2020-02-01 03:50:00  14.2  10.0  99.0  99.0  1.245352  1.296822  96.031065  "
      ]
     },
     "execution_count": 19,
     "metadata": {},
     "output_type": "execute_result"
    }
   ],
   "source": [
    "# the data has been added\n",
    "Aero_empty.df.head()"
   ]
  },
  {
   "cell_type": "code",
   "execution_count": 20,
   "metadata": {},
   "outputs": [
    {
     "ename": "TypeError",
     "evalue": "Must assign a pandas.DataFrame object",
     "output_type": "error",
     "traceback": [
      "\u001b[0;31m---------------------------------------------------------------------------\u001b[0m",
      "\u001b[0;31mTypeError\u001b[0m                                 Traceback (most recent call last)",
      "\u001b[0;32m<ipython-input-20-5de371e56275>\u001b[0m in \u001b[0;36m<module>\u001b[0;34m\u001b[0m\n\u001b[1;32m      1\u001b[0m \u001b[0;31m# this will not work, df needs to be a dataframe\u001b[0m\u001b[0;34m\u001b[0m\u001b[0;34m\u001b[0m\u001b[0;34m\u001b[0m\u001b[0m\n\u001b[0;32m----> 2\u001b[0;31m \u001b[0mAero_empty\u001b[0m\u001b[0;34m.\u001b[0m\u001b[0mdf\u001b[0m \u001b[0;34m=\u001b[0m \u001b[0;34m'high five'\u001b[0m\u001b[0;34m\u001b[0m\u001b[0;34m\u001b[0m\u001b[0m\n\u001b[0m",
      "\u001b[0;32m~/anaconda3/envs/aeroevap/lib/python3.7/site-packages/aeroevap/aero.py\u001b[0m in \u001b[0;36mdf\u001b[0;34m(self, df)\u001b[0m\n\u001b[1;32m    126\u001b[0m     \u001b[0;32mdef\u001b[0m \u001b[0mdf\u001b[0m\u001b[0;34m(\u001b[0m\u001b[0mself\u001b[0m\u001b[0;34m,\u001b[0m \u001b[0mdf\u001b[0m\u001b[0;34m)\u001b[0m\u001b[0;34m:\u001b[0m\u001b[0;34m\u001b[0m\u001b[0;34m\u001b[0m\u001b[0m\n\u001b[1;32m    127\u001b[0m         \u001b[0;32mif\u001b[0m \u001b[0;32mnot\u001b[0m \u001b[0misinstance\u001b[0m\u001b[0;34m(\u001b[0m\u001b[0mdf\u001b[0m\u001b[0;34m,\u001b[0m \u001b[0mpd\u001b[0m\u001b[0;34m.\u001b[0m\u001b[0mDataFrame\u001b[0m\u001b[0;34m)\u001b[0m\u001b[0;34m:\u001b[0m\u001b[0;34m\u001b[0m\u001b[0;34m\u001b[0m\u001b[0m\n\u001b[0;32m--> 128\u001b[0;31m             \u001b[0;32mraise\u001b[0m \u001b[0mTypeError\u001b[0m\u001b[0;34m(\u001b[0m\u001b[0;34m\"Must assign a pandas.DataFrame object\"\u001b[0m\u001b[0;34m)\u001b[0m\u001b[0;34m\u001b[0m\u001b[0;34m\u001b[0m\u001b[0m\n\u001b[0m\u001b[1;32m    129\u001b[0m         \u001b[0mself\u001b[0m\u001b[0;34m.\u001b[0m\u001b[0m_df\u001b[0m \u001b[0;34m=\u001b[0m \u001b[0mdf\u001b[0m\u001b[0;34m\u001b[0m\u001b[0;34m\u001b[0m\u001b[0m\n\u001b[1;32m    130\u001b[0m \u001b[0;34m\u001b[0m\u001b[0m\n",
      "\u001b[0;31mTypeError\u001b[0m: Must assign a pandas.DataFrame object"
     ]
    }
   ],
   "source": [
    "# this will not work, df needs to be a dataframe\n",
    "Aero_empty.df = 'high five'"
   ]
  },
  {
   "cell_type": "markdown",
   "metadata": {},
   "source": [
    "**Tip:** the ``df`` is a property of the ``Aero`` class which means it can be assigned or reassigned if, for example, you wanted to run the evaporation calculations on a modified version of input meterological time series without creating a new ``Aero`` instance."
   ]
  },
  {
   "cell_type": "markdown",
   "metadata": {},
   "source": [
    "## Input variables and units\n",
    "\n",
    "The meterological variables needed for running the aerodynamic mass-transfer estimation of evaporation are the following:\n",
    "\n",
    "| variable          | units | naming |\n",
    "|-------------------|-------|--------|\n",
    "| wind speed        | m/s   | WS     |\n",
    "| air pressure      | mbar  | P      |\n",
    "| air temperature   | C     | T_air  |\n",
    "| skin temperature  | C     | T_skin |\n",
    "| relative humidity | 0-100 | RH     |\n",
    "\n",
    "where the \"naming\" column refers to the internal names expected by the ``Aero.run`` method, i.e. the column headers in the dataframe should either be named accordingly or a dictionary that maps your column names to those internal names can be passed (see examples below). \n",
    "\n",
    "To run the evaporation calculation you will also need the anemometer height in meters and the temporal sampling frequency of the data in seconds."
   ]
  },
  {
   "cell_type": "markdown",
   "metadata": {},
   "source": [
    "## Run calculation on time series"
   ]
  },
  {
   "cell_type": "code",
   "execution_count": 21,
   "metadata": {},
   "outputs": [],
   "source": [
    "# make a naming dict to match up columns with Aero variable names\n",
    "names = {\n",
    "    'WSPD' : 'WS',\n",
    "    'ATMP' : 'T_air',\n",
    "    'WTMP' : 'T_skin',\n",
    "    'PRES' : 'P'\n",
    "}"
   ]
  },
  {
   "cell_type": "markdown",
   "metadata": {},
   "source": [
    "Now we are ready to run the aerodynamic mass-transer evaporation on all the time series in our dataframe. Lastly, the sensor height of the anemometer and temporal sampling frequency of the data needs to be supplied. \n",
    "\n",
    "This example assumes there are 8 physical and logical processors available for parallelization, if not specified the ``Aero.run`` routine wil try to use half of the avialble processors."
   ]
  },
  {
   "cell_type": "code",
   "execution_count": 22,
   "metadata": {},
   "outputs": [],
   "source": [
    "np.seterr('ignore')\n",
    "# create a new Aero object and calculate evaporation on all rows\n",
    "A = Aero(met_df)\n",
    "A.run(sensor_height=4, timestep=600, variable_names=names)"
   ]
  },
  {
   "cell_type": "markdown",
   "metadata": {},
   "source": [
    "After the calculations are complete three variables will be added to the ``Aero.df`` dataframe: 'E', 'Ce', and 'VPD' which are evaporation in mm/timestep, bulk transfer coefficient, and vapor pressure deficit (kPa). "
   ]
  },
  {
   "cell_type": "code",
   "execution_count": 23,
   "metadata": {},
   "outputs": [
    {
     "data": {
      "text/html": [
       "<div>\n",
       "<style scoped>\n",
       "    .dataframe tbody tr th:only-of-type {\n",
       "        vertical-align: middle;\n",
       "    }\n",
       "\n",
       "    .dataframe tbody tr th {\n",
       "        vertical-align: top;\n",
       "    }\n",
       "\n",
       "    .dataframe thead th {\n",
       "        text-align: right;\n",
       "    }\n",
       "</style>\n",
       "<table border=\"1\" class=\"dataframe\">\n",
       "  <thead>\n",
       "    <tr style=\"text-align: right;\">\n",
       "      <th></th>\n",
       "      <th>E</th>\n",
       "      <th>Ce</th>\n",
       "      <th>VPD</th>\n",
       "    </tr>\n",
       "    <tr>\n",
       "      <th>date</th>\n",
       "      <th></th>\n",
       "      <th></th>\n",
       "      <th></th>\n",
       "    </tr>\n",
       "  </thead>\n",
       "  <tbody>\n",
       "    <tr>\n",
       "      <td>2020-01-31 23:50:00</td>\n",
       "      <td>0.023573</td>\n",
       "      <td>0.001552</td>\n",
       "      <td>0.327503</td>\n",
       "    </tr>\n",
       "    <tr>\n",
       "      <td>2020-02-01 00:50:00</td>\n",
       "      <td>0.020519</td>\n",
       "      <td>0.001527</td>\n",
       "      <td>0.360776</td>\n",
       "    </tr>\n",
       "    <tr>\n",
       "      <td>2020-02-01 01:50:00</td>\n",
       "      <td>0.024901</td>\n",
       "      <td>0.001545</td>\n",
       "      <td>0.411624</td>\n",
       "    </tr>\n",
       "    <tr>\n",
       "      <td>2020-02-01 02:50:00</td>\n",
       "      <td>0.023312</td>\n",
       "      <td>0.001538</td>\n",
       "      <td>0.422028</td>\n",
       "    </tr>\n",
       "    <tr>\n",
       "      <td>2020-02-01 03:50:00</td>\n",
       "      <td>0.019437</td>\n",
       "      <td>0.001519</td>\n",
       "      <td>0.391987</td>\n",
       "    </tr>\n",
       "  </tbody>\n",
       "</table>\n",
       "</div>"
      ],
      "text/plain": [
       "                            E        Ce       VPD\n",
       "date                                             \n",
       "2020-01-31 23:50:00  0.023573  0.001552  0.327503\n",
       "2020-02-01 00:50:00  0.020519  0.001527  0.360776\n",
       "2020-02-01 01:50:00  0.024901  0.001545  0.411624\n",
       "2020-02-01 02:50:00  0.023312  0.001538  0.422028\n",
       "2020-02-01 03:50:00  0.019437  0.001519  0.391987"
      ]
     },
     "execution_count": 23,
     "metadata": {},
     "output_type": "execute_result"
    }
   ],
   "source": [
    "A.df[['E', 'Ce', 'VPD']].head()"
   ]
  },
  {
   "cell_type": "markdown",
   "metadata": {},
   "source": [
    "View the calculated evaporation,"
   ]
  },
  {
   "cell_type": "code",
   "execution_count": 24,
   "metadata": {},
   "outputs": [
    {
     "data": {
      "text/plain": [
       "Text(0, 0.5, 'evaporation mm/10 min')"
      ]
     },
     "execution_count": 24,
     "metadata": {},
     "output_type": "execute_result"
    },
    {
     "data": {
      "image/png": "[encoded data removed]",
      "text/plain": [
       "<Figure size 576x288 with 1 Axes>"
      ]
     },
     "metadata": {
      "needs_background": "light"
     },
     "output_type": "display_data"
    }
   ],
   "source": [
    "plt.figure(figsize=(8,4))\n",
    "A.df.E.plot()\n",
    "plt.ylabel('evaporation mm/10 min')"
   ]
  },
  {
   "cell_type": "markdown",
   "metadata": {},
   "source": [
    "The calculated open-water evaporation is shown below after creating a daily sum."
   ]
  },
  {
   "cell_type": "code",
   "execution_count": 25,
   "metadata": {
    "scrolled": true
   },
   "outputs": [
    {
     "data": {
      "text/plain": [
       "Text(0, 0.5, 'evaporation mm/day')"
      ]
     },
     "execution_count": 25,
     "metadata": {},
     "output_type": "execute_result"
    },
    {
     "data": {
      "image/png": "[encoded data removed]",
      "text/plain": [
       "<Figure size 576x288 with 1 Axes>"
      ]
     },
     "metadata": {
      "needs_background": "light"
     },
     "output_type": "display_data"
    }
   ],
   "source": [
    "import matplotlib.pyplot as plt\n",
    "plt.figure(figsize=(8,4))\n",
    "A.df.E.resample('D').sum().plot()\n",
    "plt.ylabel('evaporation mm/day')"
   ]
  },
  {
   "cell_type": "markdown",
   "metadata": {},
   "source": [
    "And the wind speed relation versus the calculated evaporation."
   ]
  },
  {
   "cell_type": "code",
   "execution_count": 26,
   "metadata": {},
   "outputs": [
    {
     "data": {
      "text/plain": [
       "Text(0.5, 0, 'mean daily wind speed m/s')"
      ]
     },
     "execution_count": 26,
     "metadata": {},
     "output_type": "execute_result"
    },
    {
     "data": {
      "image/png": "[encoded data removed]",
      "text/plain": [
       "<Figure size 576x288 with 1 Axes>"
      ]
     },
     "metadata": {
      "needs_background": "light"
     },
     "output_type": "display_data"
    }
   ],
   "source": [
    "plt.figure(figsize=(8,4))\n",
    "plt.scatter(A.df.WSPD.resample('D').mean(), A.df.E.resample('D').sum())\n",
    "plt.ylabel('evaporation mm/day')\n",
    "plt.xlabel('mean daily wind speed m/s')"
   ]
  },
  {
   "cell_type": "markdown",
   "metadata": {},
   "source": [
    "## Single calculation\n",
    "\n",
    "The ``Aero`` class also provides a method ``Aero.single_calc`` that can be used on a single set of meterological data to calculate the instantaneous open-water evaporation. It requires the same inputs as ``Aero.run`` however the inputs are scalars as opposed to time series. For example using the first timestamp of our example buoy data we can calculate E, Ce, and VPD:"
   ]
  },
  {
   "cell_type": "code",
   "execution_count": 27,
   "metadata": {},
   "outputs": [],
   "source": [
    "datetime = '2019-08-01 00:00:00'\n",
    "wind = 3.3\n",
    "pressure = 1021.2\n",
    "T_air = 18.1\n",
    "T_skin = 18.4\n",
    "RH = 80.26\n",
    "sensor_height = 4\n",
    "timestep = 600\n",
    "\n",
    "E, Ce, VPD = Aero.single_calc(\n",
    "    datetime,\n",
    "    wind,\n",
    "    pressure,\n",
    "    T_air,\n",
    "    T_skin,\n",
    "    RH,\n",
    "    sensor_height,\n",
    "    timestep\n",
    ")"
   ]
  },
  {
   "cell_type": "code",
   "execution_count": 28,
   "metadata": {},
   "outputs": [
    {
     "data": {
      "text/plain": [
       "(0.008724959939647368, 0.001310850807452679, 0.44947250457458576)"
      ]
     },
     "execution_count": 28,
     "metadata": {},
     "output_type": "execute_result"
    }
   ],
   "source": [
    "E, Ce, VPD"
   ]
  },
  {
   "cell_type": "code",
   "execution_count": null,
   "metadata": {},
   "outputs": [],
   "source": []
  }
 ],
 "metadata": {
  "kernelspec": {
   "display_name": "Python 3",
   "language": "python",
   "name": "python3"
  },
  "language_info": {
   "codemirror_mode": {
    "name": "ipython",
    "version": 3
   },
   "file_extension": ".py",
   "mimetype": "text/x-python",
   "name": "python",
   "nbconvert_exporter": "python",
   "pygments_lexer": "ipython3",
   "version": "3.7.4"
  }
 },
 "nbformat": 4,
 "nbformat_minor": 2
}
